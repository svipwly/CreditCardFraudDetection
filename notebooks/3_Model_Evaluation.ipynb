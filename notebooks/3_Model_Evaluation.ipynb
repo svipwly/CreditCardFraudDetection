{
 "cells": [
  {
   "cell_type": "code",
   "id": "initial_id",
   "metadata": {
    "collapsed": true,
    "ExecuteTime": {
     "end_time": "2025-06-09T06:04:04.372436Z",
     "start_time": "2025-06-09T06:04:03.563640Z"
    }
   },
   "source": [
    "import pandas as pd\n",
    "import joblib\n",
    "from sklearn.metrics import confusion_matrix, recall_score, precision_score, f1_score, accuracy_score\n",
    "from sklearn.preprocessing import StandardScaler\n",
    "\n",
    "# 1. 读取测试数据\n",
    "# data = pd.read_csv('../data/test.csv')\n",
    "data = pd.read_csv('../data/val.csv')\n",
    "col_names = ['Amount']\n",
    "\n",
    "# 2. 特征缩放\n",
    "def Standard_Scaler(df, col_names):\n",
    "    features = df[col_names]\n",
    "    scaler = StandardScaler().fit(features.values)\n",
    "    features = scaler.transform(features.values)\n",
    "    df[col_names] = features\n",
    "    return df\n",
    "\n",
    "data = Standard_Scaler(data, col_names)\n",
    "\n",
    "# 3. 特征与标签分离（假设最后一列为标签，你可根据实际调整）\n",
    "X_test = data.drop(columns='Class')  # 或你实际的标签列名\n",
    "# X_test = data.drop(columns=['Class', 'Time'])\n",
    "y_test = data['Class']"
   ],
   "outputs": [],
   "execution_count": 80
  },
  {
   "metadata": {
    "ExecuteTime": {
     "end_time": "2025-06-09T06:04:04.476842Z",
     "start_time": "2025-06-09T06:04:04.465832Z"
    }
   },
   "cell_type": "code",
   "source": [
    "# 4. 定义模型及名称\n",
    "model_files = {\n",
    "    'Random Forest': '../models/random_forest_model.pkl',\n",
    "    'Classweights RF': '../models/Classweights_rf_model.pkl',\n",
    "    'Random Oversampling RF': '../models/random_oversampling_rf_model.pkl',\n",
    "    'SMOTE RF': '../models/smote_rf_model.pkl',\n",
    "    'SMOTETomek RF': '../models/SMOTETomek_rf_model.pkl',\n",
    "    'LightGBM': '../models/lgbm_model.pkl',\n",
    "    'LightGBM_GridSearchCV': '../models/grid_lgbm_model.pkl',\n",
    "    'XGBoost': '../models/xgb_model.pkl',\n",
    "    'XGBoost_GridSearchCV': '../models/grid_xgb_model.pkl',\n",
    "    'XGBoost_st': '../models/st_xgb_model.pkl',\n",
    "    # 'best_XGBoost': '../models/best_xgb_model.pkl',\n",
    "    # 'Random Forest GridSearchCV': '../models/grid_rfb_model.pkl',\n",
    "}"
   ],
   "id": "4c313e9b8dfca3",
   "outputs": [],
   "execution_count": 81
  },
  {
   "metadata": {
    "ExecuteTime": {
     "end_time": "2025-06-09T06:04:04.550265Z",
     "start_time": "2025-06-09T06:04:04.537612Z"
    }
   },
   "cell_type": "code",
   "source": [
    "# 5. 评估函数\n",
    "def evaluate_model(model, X_test, y_test):\n",
    "    y_pred = model.predict(X_test)\n",
    "    cm = confusion_matrix(y_test, y_pred)\n",
    "    recall = recall_score(y_test, y_pred)\n",
    "    precision = precision_score(y_test, y_pred)\n",
    "    f1 = f1_score(y_test, y_pred)\n",
    "    accuracy = accuracy_score(y_test, y_pred)\n",
    "    return recall, precision, f1, accuracy, cm"
   ],
   "id": "ddc25d09101913d5",
   "outputs": [],
   "execution_count": 82
  },
  {
   "metadata": {
    "ExecuteTime": {
     "end_time": "2025-06-09T06:04:06.378325Z",
     "start_time": "2025-06-09T06:04:04.608393Z"
    }
   },
   "cell_type": "code",
   "source": [
    "# 6. 遍历模型评估\n",
    "results = []\n",
    "cms = {}\n",
    "for name, path in model_files.items():\n",
    "    model = joblib.load(path)\n",
    "    recall, precision, f1, accuracy, cm = evaluate_model(model, X_test, y_test)\n",
    "    results.append((name, recall, precision, f1, accuracy))\n",
    "    cms[name] = cm  # 存混淆矩阵方便查看\n"
   ],
   "id": "88d08b859cfcce1d",
   "outputs": [],
   "execution_count": 83
  },
  {
   "metadata": {
    "ExecuteTime": {
     "end_time": "2025-06-09T06:04:06.427696Z",
     "start_time": "2025-06-09T06:04:06.415624Z"
    }
   },
   "cell_type": "code",
   "source": [
    "# 7. 汇总结果\n",
    "columns = ['Model', 'Recall', 'Precision', 'F1 Score', 'Accuracy']\n",
    "results_df = pd.DataFrame(results, columns=columns)\n",
    "results_df = results_df.sort_values(by='Recall', ascending=False).reset_index(drop=True)"
   ],
   "id": "8a62337049469940",
   "outputs": [],
   "execution_count": 84
  },
  {
   "metadata": {
    "ExecuteTime": {
     "end_time": "2025-06-09T06:04:06.476765Z",
     "start_time": "2025-06-09T06:04:06.466698Z"
    }
   },
   "cell_type": "code",
   "source": [
    "# 8. 展示\n",
    "results_df\n",
    "# print(results_df)"
   ],
   "id": "79d0313b1952a568",
   "outputs": [
    {
     "data": {
      "text/plain": [
       "                    Model    Recall  Precision  F1 Score  Accuracy\n",
       "0  Random Oversampling RF  0.838384   0.243402  0.377273  0.995190\n",
       "1         Classweights RF  0.828283   0.277027  0.415190  0.995945\n",
       "2           SMOTETomek RF  0.828283   0.198068  0.319688  0.993873\n",
       "3                SMOTE RF  0.828283   0.266234  0.402948  0.995734\n",
       "4              XGBoost_st  0.787879   0.838710  0.812500  0.999368\n",
       "5                 XGBoost  0.777778   0.875000  0.823529  0.999421\n",
       "6    XGBoost_GridSearchCV  0.757576   0.961538  0.847458  0.999526\n",
       "7           Random Forest  0.737374   0.986486  0.843931  0.999526\n",
       "8   LightGBM_GridSearchCV  0.717172   0.887500  0.793296  0.999350\n",
       "9                LightGBM  0.424242   0.176471  0.249258  0.995558"
      ],
      "text/html": [
       "<div>\n",
       "<style scoped>\n",
       "    .dataframe tbody tr th:only-of-type {\n",
       "        vertical-align: middle;\n",
       "    }\n",
       "\n",
       "    .dataframe tbody tr th {\n",
       "        vertical-align: top;\n",
       "    }\n",
       "\n",
       "    .dataframe thead th {\n",
       "        text-align: right;\n",
       "    }\n",
       "</style>\n",
       "<table border=\"1\" class=\"dataframe\">\n",
       "  <thead>\n",
       "    <tr style=\"text-align: right;\">\n",
       "      <th></th>\n",
       "      <th>Model</th>\n",
       "      <th>Recall</th>\n",
       "      <th>Precision</th>\n",
       "      <th>F1 Score</th>\n",
       "      <th>Accuracy</th>\n",
       "    </tr>\n",
       "  </thead>\n",
       "  <tbody>\n",
       "    <tr>\n",
       "      <th>0</th>\n",
       "      <td>Random Oversampling RF</td>\n",
       "      <td>0.838384</td>\n",
       "      <td>0.243402</td>\n",
       "      <td>0.377273</td>\n",
       "      <td>0.995190</td>\n",
       "    </tr>\n",
       "    <tr>\n",
       "      <th>1</th>\n",
       "      <td>Classweights RF</td>\n",
       "      <td>0.828283</td>\n",
       "      <td>0.277027</td>\n",
       "      <td>0.415190</td>\n",
       "      <td>0.995945</td>\n",
       "    </tr>\n",
       "    <tr>\n",
       "      <th>2</th>\n",
       "      <td>SMOTETomek RF</td>\n",
       "      <td>0.828283</td>\n",
       "      <td>0.198068</td>\n",
       "      <td>0.319688</td>\n",
       "      <td>0.993873</td>\n",
       "    </tr>\n",
       "    <tr>\n",
       "      <th>3</th>\n",
       "      <td>SMOTE RF</td>\n",
       "      <td>0.828283</td>\n",
       "      <td>0.266234</td>\n",
       "      <td>0.402948</td>\n",
       "      <td>0.995734</td>\n",
       "    </tr>\n",
       "    <tr>\n",
       "      <th>4</th>\n",
       "      <td>XGBoost_st</td>\n",
       "      <td>0.787879</td>\n",
       "      <td>0.838710</td>\n",
       "      <td>0.812500</td>\n",
       "      <td>0.999368</td>\n",
       "    </tr>\n",
       "    <tr>\n",
       "      <th>5</th>\n",
       "      <td>XGBoost</td>\n",
       "      <td>0.777778</td>\n",
       "      <td>0.875000</td>\n",
       "      <td>0.823529</td>\n",
       "      <td>0.999421</td>\n",
       "    </tr>\n",
       "    <tr>\n",
       "      <th>6</th>\n",
       "      <td>XGBoost_GridSearchCV</td>\n",
       "      <td>0.757576</td>\n",
       "      <td>0.961538</td>\n",
       "      <td>0.847458</td>\n",
       "      <td>0.999526</td>\n",
       "    </tr>\n",
       "    <tr>\n",
       "      <th>7</th>\n",
       "      <td>Random Forest</td>\n",
       "      <td>0.737374</td>\n",
       "      <td>0.986486</td>\n",
       "      <td>0.843931</td>\n",
       "      <td>0.999526</td>\n",
       "    </tr>\n",
       "    <tr>\n",
       "      <th>8</th>\n",
       "      <td>LightGBM_GridSearchCV</td>\n",
       "      <td>0.717172</td>\n",
       "      <td>0.887500</td>\n",
       "      <td>0.793296</td>\n",
       "      <td>0.999350</td>\n",
       "    </tr>\n",
       "    <tr>\n",
       "      <th>9</th>\n",
       "      <td>LightGBM</td>\n",
       "      <td>0.424242</td>\n",
       "      <td>0.176471</td>\n",
       "      <td>0.249258</td>\n",
       "      <td>0.995558</td>\n",
       "    </tr>\n",
       "  </tbody>\n",
       "</table>\n",
       "</div>"
      ]
     },
     "execution_count": 85,
     "metadata": {},
     "output_type": "execute_result"
    }
   ],
   "execution_count": 85
  },
  {
   "metadata": {
    "ExecuteTime": {
     "end_time": "2025-06-09T06:04:06.585528Z",
     "start_time": "2025-06-09T06:04:06.571816Z"
    }
   },
   "cell_type": "code",
   "source": [
    "# 查看具体某个模型的混淆矩阵，比如\n",
    "# print(\"LightGBM_GridSearchCV 混淆矩阵：\\n\", cms['LightGBM_GridSearchCV'])"
   ],
   "id": "3e5a5f239c05050e",
   "outputs": [],
   "execution_count": 86
  },
  {
   "metadata": {
    "ExecuteTime": {
     "end_time": "2025-06-09T06:04:06.669931Z",
     "start_time": "2025-06-09T06:04:06.660032Z"
    }
   },
   "cell_type": "code",
   "source": [
    "# import joblib\n",
    "# import numpy as np\n",
    "#\n",
    "# # 加载模型\n",
    "# xgb_model = joblib.load('../models/xgb_model.pkl')\n",
    "# rf_model = joblib.load('../models/grid_xgb_model.pkl')\n",
    "#\n",
    "# # 预测\n",
    "# xgb_pred = xgb_model.predict(X_test)\n",
    "# rf_pred = rf_model.predict(X_test)\n",
    "#\n",
    "# # 简单投票（多数表决）\n",
    "# ensemble_pred = (xgb_pred + rf_pred) >= 1  # 只要有一个为1就判为1\n",
    "# ensemble_pred = ensemble_pred.astype(int)\n",
    "#\n",
    "# # 评估\n",
    "# from sklearn.metrics import recall_score, precision_score, f1_score, accuracy_score, confusion_matrix\n",
    "#\n",
    "# recall = recall_score(y_test, ensemble_pred)\n",
    "# precision = precision_score(y_test, ensemble_pred)\n",
    "# f1 = f1_score(y_test, ensemble_pred)\n",
    "# accuracy = accuracy_score(y_test, ensemble_pred)\n",
    "# cm = confusion_matrix(y_test, ensemble_pred)\n",
    "#\n",
    "# print('Recall:', recall)\n",
    "# print('Precision:', precision)\n",
    "# print('F1 Score:', f1)\n",
    "# print('Accuracy:', accuracy)\n",
    "# print('Confusion Matrix:\\n', cm)"
   ],
   "id": "13177a763ea122a0",
   "outputs": [],
   "execution_count": 87
  }
 ],
 "metadata": {
  "kernelspec": {
   "display_name": "Python 3",
   "language": "python",
   "name": "python3"
  },
  "language_info": {
   "codemirror_mode": {
    "name": "ipython",
    "version": 2
   },
   "file_extension": ".py",
   "mimetype": "text/x-python",
   "name": "python",
   "nbconvert_exporter": "python",
   "pygments_lexer": "ipython2",
   "version": "2.7.6"
  }
 },
 "nbformat": 4,
 "nbformat_minor": 5
}
