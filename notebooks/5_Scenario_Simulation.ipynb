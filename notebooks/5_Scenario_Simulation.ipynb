{
 "cells": [
  {
   "metadata": {},
   "cell_type": "markdown",
   "source": "## 切分数据",
   "id": "2429081095bc917c"
  },
  {
   "metadata": {
    "ExecuteTime": {
     "end_time": "2025-06-10T04:59:55.551175Z",
     "start_time": "2025-06-10T04:59:54.782910Z"
    }
   },
   "cell_type": "code",
   "source": [
    "import pandas as pd\n",
    "from sklearn.metrics import confusion_matrix, recall_score, precision_score, f1_score, accuracy_score\n",
    "from sklearn.preprocessing import StandardScaler\n",
    "import joblib\n",
    "\n",
    "# 读取原始数据\n",
    "df = pd.read_csv('../data/test.csv')\n",
    "\n",
    "# 筛选 Class=0 和 Class=1 的数据\n",
    "df_0 = df[df['Class'] == 0]\n",
    "df_1 = df[df['Class'] == 1]\n",
    "\n",
    "# 分别保存为新文件\n",
    "df_0.to_csv('../data/test_class_0.csv', index=False)\n",
    "df_1.to_csv('../data/test_class_1.csv', index=False)"
   ],
   "id": "d3aa9cea4d39b05d",
   "outputs": [],
   "execution_count": 27
  },
  {
   "metadata": {
    "ExecuteTime": {
     "end_time": "2025-06-10T04:59:55.593643Z",
     "start_time": "2025-06-10T04:59:55.581098Z"
    }
   },
   "cell_type": "code",
   "source": [
    "data = pd.read_csv('../data/test_class_1.csv')\n",
    "col_names = ['Amount']\n",
    "\n",
    "# 2. 特征缩放\n",
    "def Standard_Scaler(df, col_names):\n",
    "    features = df[col_names]\n",
    "    scaler = StandardScaler().fit(features.values)\n",
    "    features = scaler.transform(features.values)\n",
    "    df[col_names] = features\n",
    "    return df\n",
    "\n",
    "data = Standard_Scaler(data, col_names)\n",
    "\n",
    "X_test = data.drop(columns='Class')  # 或你实际的标签列名\n",
    "y_test = data['Class']"
   ],
   "id": "d7f6f2b0dc07290f",
   "outputs": [],
   "execution_count": 28
  },
  {
   "metadata": {
    "ExecuteTime": {
     "end_time": "2025-06-10T04:59:55.650776Z",
     "start_time": "2025-06-10T04:59:55.635711Z"
    }
   },
   "cell_type": "code",
   "source": [
    "def evaluate_model(model, X_test, y_test):\n",
    "    y_pred = model.predict(X_test)\n",
    "    cm = confusion_matrix(y_test, y_pred)\n",
    "    recall = recall_score(y_test, y_pred)\n",
    "    precision = precision_score(y_test, y_pred)\n",
    "    f1 = f1_score(y_test, y_pred)\n",
    "    accuracy = accuracy_score(y_test, y_pred)\n",
    "    return recall, precision, f1, accuracy, cm"
   ],
   "id": "fe640ab15808fc35",
   "outputs": [],
   "execution_count": 29
  },
  {
   "metadata": {
    "ExecuteTime": {
     "end_time": "2025-06-10T04:59:55.705528Z",
     "start_time": "2025-06-10T04:59:55.680378Z"
    }
   },
   "cell_type": "code",
   "source": [
    "model_files = {\n",
    "    'best_XGBoost': '../models/best_xgb_model.pkl',\n",
    "\n",
    "}\n",
    "\n",
    "results = []\n",
    "cms = {}\n",
    "for name, path in model_files.items():\n",
    "    model = joblib.load(path)\n",
    "    recall, precision, f1, accuracy, cm = evaluate_model(model, X_test, y_test)\n",
    "    results.append((name, recall, precision, f1, accuracy))\n",
    "    cms[name] = cm  # 存混淆矩阵方便查看"
   ],
   "id": "b21b9a94c74490f5",
   "outputs": [],
   "execution_count": 30
  },
  {
   "metadata": {
    "ExecuteTime": {
     "end_time": "2025-06-10T04:59:55.754864Z",
     "start_time": "2025-06-10T04:59:55.742742Z"
    }
   },
   "cell_type": "code",
   "source": [
    "columns = ['Model', 'Recall', 'Precision', 'F1 Score', 'Accuracy']\n",
    "results_df = pd.DataFrame(results, columns=columns)\n",
    "results_df = results_df.sort_values(by='Recall', ascending=False).reset_index(drop=True)\n",
    "results_df"
   ],
   "id": "2c44445be6906dfa",
   "outputs": [
    {
     "data": {
      "text/plain": [
       "          Model    Recall  Precision  F1 Score  Accuracy\n",
       "0  best_XGBoost  0.755102        1.0  0.860465  0.755102"
      ],
      "text/html": [
       "<div>\n",
       "<style scoped>\n",
       "    .dataframe tbody tr th:only-of-type {\n",
       "        vertical-align: middle;\n",
       "    }\n",
       "\n",
       "    .dataframe tbody tr th {\n",
       "        vertical-align: top;\n",
       "    }\n",
       "\n",
       "    .dataframe thead th {\n",
       "        text-align: right;\n",
       "    }\n",
       "</style>\n",
       "<table border=\"1\" class=\"dataframe\">\n",
       "  <thead>\n",
       "    <tr style=\"text-align: right;\">\n",
       "      <th></th>\n",
       "      <th>Model</th>\n",
       "      <th>Recall</th>\n",
       "      <th>Precision</th>\n",
       "      <th>F1 Score</th>\n",
       "      <th>Accuracy</th>\n",
       "    </tr>\n",
       "  </thead>\n",
       "  <tbody>\n",
       "    <tr>\n",
       "      <th>0</th>\n",
       "      <td>best_XGBoost</td>\n",
       "      <td>0.755102</td>\n",
       "      <td>1.0</td>\n",
       "      <td>0.860465</td>\n",
       "      <td>0.755102</td>\n",
       "    </tr>\n",
       "  </tbody>\n",
       "</table>\n",
       "</div>"
      ]
     },
     "execution_count": 31,
     "metadata": {},
     "output_type": "execute_result"
    }
   ],
   "execution_count": 31
  }
 ],
 "metadata": {
  "kernelspec": {
   "display_name": "Python 3",
   "language": "python",
   "name": "python3"
  },
  "language_info": {
   "codemirror_mode": {
    "name": "ipython",
    "version": 2
   },
   "file_extension": ".py",
   "mimetype": "text/x-python",
   "name": "python",
   "nbconvert_exporter": "python",
   "pygments_lexer": "ipython2",
   "version": "2.7.6"
  }
 },
 "nbformat": 4,
 "nbformat_minor": 5
}
