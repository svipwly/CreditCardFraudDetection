{
 "cells": [
  {
   "metadata": {},
   "cell_type": "markdown",
   "source": "# Model Building and Training",
   "id": "8d769bbfa86f7c81"
  },
  {
   "metadata": {},
   "cell_type": "markdown",
   "source": "## 0 预处理",
   "id": "5108c6b3ef37f403"
  },
  {
   "metadata": {
    "ExecuteTime": {
     "end_time": "2025-06-09T00:37:29.521488Z",
     "start_time": "2025-06-09T00:37:29.240745Z"
    }
   },
   "cell_type": "code",
   "source": [
    "import numpy as np\n",
    "import pandas as pd\n",
    "import seaborn as sns\n",
    "import plotly.express as px\n",
    "from matplotlib import pyplot as plt\n",
    "from sklearn.model_selection import cross_val_score\n",
    "import joblib\n",
    "from sklearn import metrics\n",
    "from collections import Counter"
   ],
   "id": "d0d8acab93b246af",
   "outputs": [],
   "execution_count": 1
  },
  {
   "metadata": {
    "ExecuteTime": {
     "end_time": "2025-06-09T00:37:30.900017Z",
     "start_time": "2025-06-09T00:37:29.533819Z"
    }
   },
   "cell_type": "code",
   "source": [
    "rf_df_train = pd.read_csv('../data/train.csv')\n",
    "rf_df_test = pd.read_csv('../data/val.csv')\n",
    "\n",
    "X_train = rf_df_train.drop(['Class'], axis=1)\n",
    "y_train = rf_df_train['Class']\n",
    "\n",
    "X_test = rf_df_test.drop(['Class'], axis=1)\n",
    "y_test = rf_df_test['Class']"
   ],
   "id": "27e0fcb04daa6b96",
   "outputs": [],
   "execution_count": 2
  },
  {
   "metadata": {},
   "cell_type": "markdown",
   "source": "特征缩放",
   "id": "3f40c85dddb4f7cf"
  },
  {
   "metadata": {
    "ExecuteTime": {
     "end_time": "2025-06-09T00:37:40.787796Z",
     "start_time": "2025-06-09T00:37:40.765157Z"
    }
   },
   "cell_type": "code",
   "source": [
    "from sklearn.preprocessing import StandardScaler\n",
    "\n",
    "\n",
    "# 创建一个函数来进行特征缩放\n",
    "def Standard_Scaler(df, col_names):\n",
    "    features = df[col_names]\n",
    "    scaler = StandardScaler().fit(features.values)\n",
    "    features = scaler.transform(features.values)\n",
    "    df[col_names] = features\n",
    "    return df\n",
    "\n",
    "\n",
    "col_names = ['Amount']\n",
    "X_train = Standard_Scaler(X_train, col_names)\n",
    "X_test = Standard_Scaler(X_test, col_names)"
   ],
   "id": "d0af711e2dca98f0",
   "outputs": [],
   "execution_count": 3
  },
  {
   "metadata": {},
   "cell_type": "markdown",
   "source": "创建5折分层交叉验证器",
   "id": "3a6b5f0318391760"
  },
  {
   "metadata": {
    "ExecuteTime": {
     "end_time": "2025-06-09T00:37:46.303078Z",
     "start_time": "2025-06-09T00:37:46.292683Z"
    }
   },
   "cell_type": "code",
   "source": [
    "from sklearn.model_selection import StratifiedKFold\n",
    "\n",
    "#确保每次数据划分都是相同的。\n",
    "#通过创建一个KFold对象kf，并将cv=kf传递进去，而不是常用的cv=5，来实现这一点。\n",
    "\n",
    "kf = StratifiedKFold(n_splits=5, shuffle=False)"
   ],
   "id": "8504e599d98e6857",
   "outputs": [],
   "execution_count": 4
  },
  {
   "metadata": {},
   "cell_type": "markdown",
   "source": [
    "这是交叉验证（Cross Validation）中召回率（Recall）的分数。\n",
    "每个数字表示在一次交叉验证划分中模型的召回率，最后的平均值是所有折次召回率的平均分数。召回率衡量的是模型对正类样本的识别能力，分数越高，说明模型对正类（如欺诈、异常等）的检测能力越强。"
   ],
   "id": "6117f29cad8ac93b"
  },
  {
   "metadata": {},
   "cell_type": "markdown",
   "source": "## 1 Random Forest",
   "id": "b7231d1681726525"
  },
  {
   "metadata": {},
   "cell_type": "markdown",
   "source": "### 1.1 基准（无过采样）",
   "id": "74b95addee7ecdee"
  },
  {
   "metadata": {
    "ExecuteTime": {
     "end_time": "2025-06-08T01:06:36.992793Z",
     "start_time": "2025-06-08T01:06:36.738709Z"
    }
   },
   "cell_type": "code",
   "source": [
    "from sklearn.ensemble import RandomForestClassifier\n",
    "\n",
    "rf = RandomForestClassifier(n_estimators=100, random_state=13)\n",
    "#cross_val_score(rf, X_train, y_train, cv=kf, scoring='recall')"
   ],
   "id": "e57b02a825e98d2d",
   "outputs": [],
   "execution_count": 6
  },
  {
   "metadata": {
    "ExecuteTime": {
     "end_time": "2025-06-08T01:08:38.480225Z",
     "start_time": "2025-06-08T01:06:37.024322Z"
    }
   },
   "cell_type": "code",
   "source": [
    "score = cross_val_score(rf, X_train, y_train, cv=kf, scoring='recall', n_jobs=-1)\n",
    "print(\"交叉验证召回率分数为: {}\".format(score))\n",
    "print(\"平均交叉验证召回率分数为: {}\".format(score.mean()))"
   ],
   "id": "58d290f1e8d936a9",
   "outputs": [
    {
     "name": "stdout",
     "output_type": "stream",
     "text": [
      "交叉验证召回率分数为: [0.84057971 0.72463768 0.76811594 0.79710145 0.77941176]\n",
      "平均交叉验证召回率分数为: 0.7819693094629155\n"
     ]
    }
   ],
   "execution_count": 7
  },
  {
   "metadata": {},
   "cell_type": "markdown",
   "source": "使用 GridSearchCV 进行超参数调优",
   "id": "6a24cdd126b0e62"
  },
  {
   "metadata": {
    "ExecuteTime": {
     "end_time": "2025-06-08T01:20:21.343754Z",
     "start_time": "2025-06-08T01:08:38.535156Z"
    }
   },
   "cell_type": "code",
   "source": [
    "from sklearn.model_selection import GridSearchCV\n",
    "\n",
    "rf = RandomForestClassifier(random_state=13)\n",
    "params = {\n",
    "    'n_estimators': [50, 100, 200],\n",
    "    'max_depth': [4, 6, 10, 12]\n",
    "}\n",
    "grid_rf = GridSearchCV(rf, param_grid=params, cv=kf,\n",
    "                       scoring='recall', n_jobs=-1).fit(X_train, y_train)\n",
    "\n",
    "print('最佳参数:', grid_rf.best_params_)\n",
    "print('最佳分数:', grid_rf.best_score_)\n",
    "\n",
    "# 保存模型到文件\n",
    "joblib.dump(grid_rf, '../models/random_forest_model.pkl')\n",
    "# 加载模型\n",
    "# loaded_model = joblib.load('random_forest_model.pkl')"
   ],
   "id": "86c0f9350fd6cf78",
   "outputs": [
    {
     "name": "stdout",
     "output_type": "stream",
     "text": [
      "最佳参数: {'max_depth': 12, 'n_estimators': 200}\n",
      "最佳分数: 0.7907075873827791\n"
     ]
    },
    {
     "data": {
      "text/plain": [
       "['../models/random_forest_model.pkl']"
      ]
     },
     "execution_count": 8,
     "metadata": {},
     "output_type": "execute_result"
    }
   ],
   "execution_count": 8
  },
  {
   "metadata": {
    "ExecuteTime": {
     "end_time": "2025-06-08T01:20:21.823432Z",
     "start_time": "2025-06-08T01:20:21.471655Z"
    }
   },
   "cell_type": "code",
   "source": "y_pred = grid_rf.predict(X_test)",
   "id": "379601bf71eff32d",
   "outputs": [],
   "execution_count": 9
  },
  {
   "metadata": {
    "ExecuteTime": {
     "end_time": "2025-06-08T01:20:21.886368Z",
     "start_time": "2025-06-08T01:20:21.854749Z"
    }
   },
   "cell_type": "code",
   "source": [
    "from sklearn.metrics import confusion_matrix, recall_score, precision_score, f1_score, accuracy_score\n",
    "\n",
    "cm = confusion_matrix(y_test, y_pred)\n",
    "\n",
    "rf_Recall = recall_score(y_test, y_pred)\n",
    "rf_Precision = precision_score(y_test, y_pred)\n",
    "rf_f1 = f1_score(y_test, y_pred)\n",
    "rf_accuracy = accuracy_score(y_test, y_pred)\n",
    "\n",
    "print(cm)"
   ],
   "id": "9b2d913192f4390c",
   "outputs": [
    {
     "name": "stdout",
     "output_type": "stream",
     "text": [
      "[[56862     1]\n",
      " [   26    73]]\n"
     ]
    }
   ],
   "execution_count": 10
  },
  {
   "metadata": {
    "ExecuteTime": {
     "end_time": "2025-06-08T01:20:21.934260Z",
     "start_time": "2025-06-08T01:20:21.918167Z"
    }
   },
   "cell_type": "code",
   "source": [
    "ndf = [(rf_Recall, rf_Precision, rf_f1, rf_accuracy)]\n",
    "\n",
    "rf_score = pd.DataFrame(data=ndf, columns=['Recall', 'Precision', 'F1 Score', 'Accuracy'])\n",
    "rf_score.insert(0, 'Random Forest with', 'No Under/Oversampling')\n",
    "rf_score"
   ],
   "id": "ebc902e089ec460c",
   "outputs": [
    {
     "data": {
      "text/plain": [
       "      Random Forest with    Recall  Precision  F1 Score  Accuracy\n",
       "0  No Under/Oversampling  0.737374   0.986486  0.843931  0.999526"
      ],
      "text/html": [
       "<div>\n",
       "<style scoped>\n",
       "    .dataframe tbody tr th:only-of-type {\n",
       "        vertical-align: middle;\n",
       "    }\n",
       "\n",
       "    .dataframe tbody tr th {\n",
       "        vertical-align: top;\n",
       "    }\n",
       "\n",
       "    .dataframe thead th {\n",
       "        text-align: right;\n",
       "    }\n",
       "</style>\n",
       "<table border=\"1\" class=\"dataframe\">\n",
       "  <thead>\n",
       "    <tr style=\"text-align: right;\">\n",
       "      <th></th>\n",
       "      <th>Random Forest with</th>\n",
       "      <th>Recall</th>\n",
       "      <th>Precision</th>\n",
       "      <th>F1 Score</th>\n",
       "      <th>Accuracy</th>\n",
       "    </tr>\n",
       "  </thead>\n",
       "  <tbody>\n",
       "    <tr>\n",
       "      <th>0</th>\n",
       "      <td>No Under/Oversampling</td>\n",
       "      <td>0.737374</td>\n",
       "      <td>0.986486</td>\n",
       "      <td>0.843931</td>\n",
       "      <td>0.999526</td>\n",
       "    </tr>\n",
       "  </tbody>\n",
       "</table>\n",
       "</div>"
      ]
     },
     "execution_count": 11,
     "metadata": {},
     "output_type": "execute_result"
    }
   ],
   "execution_count": 11
  },
  {
   "metadata": {},
   "cell_type": "markdown",
   "source": "### 1.2 随机重采样",
   "id": "82e2e846c4ce8e5f"
  },
  {
   "metadata": {},
   "cell_type": "markdown",
   "source": "#### 1.2.1 Random Oversampling随机过采样",
   "id": "8ce8a47b8bb9d6fa"
  },
  {
   "metadata": {
    "ExecuteTime": {
     "end_time": "2025-06-08T01:20:22.294955Z",
     "start_time": "2025-06-08T01:20:22.044801Z"
    }
   },
   "cell_type": "code",
   "source": [
    "import warnings\n",
    "\n",
    "warnings.filterwarnings(\"ignore\", category=FutureWarning)\n",
    "\n",
    "from imblearn.over_sampling import RandomOverSampler\n",
    "\n",
    "# 定义过采样策略\n",
    "ros = RandomOverSampler(random_state=42)\n",
    "# 拟合并应用变换\n",
    "X_over, y_over = ros.fit_resample(X_train, y_train)\n",
    "\n",
    "print('正常样本:', y_over.value_counts()[0], '/', round(y_over.value_counts()[0] / len(y_over) * 100, 2), '% 的数据集')\n",
    "print('欺诈样本:', y_over.value_counts()[1], '/', round(y_over.value_counts()[1] / len(y_over) * 100, 2), '% 的数据集')"
   ],
   "id": "ef68fe393a4c5a26",
   "outputs": [
    {
     "name": "stdout",
     "output_type": "stream",
     "text": [
      "正常样本: 199020 / 50.0 % 的数据集\n",
      "欺诈样本: 199020 / 50.0 % 的数据集\n"
     ]
    }
   ],
   "execution_count": 12
  },
  {
   "metadata": {
    "ExecuteTime": {
     "end_time": "2025-06-08T01:22:00.461271Z",
     "start_time": "2025-06-08T01:20:22.373332Z"
    }
   },
   "cell_type": "code",
   "source": [
    "from imblearn.pipeline import Pipeline, make_pipeline\n",
    "\n",
    "random_overs_pipeline = make_pipeline(RandomOverSampler(random_state=42),\n",
    "                                      RandomForestClassifier(n_estimators=100, random_state=13))\n",
    "\n",
    "score2 = cross_val_score(random_overs_pipeline, X_train, y_train, scoring='recall', n_jobs=-1, cv=kf)\n",
    "print(\"交叉验证召回率分数为: {}\".format(score2))\n",
    "print(\"平均交叉验证召回率分数为: {}\".format(score2.mean()))\n",
    "\n",
    "#cross_val_score(random_overs_pipeline, X_train, y_train, scoring='recall', cv=kf)"
   ],
   "id": "f010976bac7b3f84",
   "outputs": [
    {
     "name": "stdout",
     "output_type": "stream",
     "text": [
      "交叉验证召回率分数为: [0.84057971 0.71014493 0.76811594 0.8115942  0.77941176]\n",
      "平均交叉验证召回率分数为: 0.7819693094629157\n"
     ]
    }
   ],
   "execution_count": 13
  },
  {
   "metadata": {
    "ExecuteTime": {
     "end_time": "2025-06-08T01:31:26.792706Z",
     "start_time": "2025-06-08T01:22:00.524913Z"
    }
   },
   "cell_type": "code",
   "source": [
    "new_params = {'randomforestclassifier__' + key: params[key] for key in params}\n",
    "grid_over_rf = GridSearchCV(random_overs_pipeline, param_grid=new_params, cv=kf, scoring='recall', n_jobs=-1,\n",
    "                            return_train_score=True)\n",
    "grid_over_rf.fit(X_train, y_train)\n",
    "print('最佳参数:', grid_over_rf.best_params_)\n",
    "print('最佳分数:', grid_over_rf.best_score_)\n",
    "\n",
    "# 保存模型到文件\n",
    "joblib.dump(grid_over_rf, '../models/random_oversampling_rf_model.pkl')"
   ],
   "id": "c0d7e7f64e33ec0a",
   "outputs": [
    {
     "name": "stdout",
     "output_type": "stream",
     "text": [
      "最佳参数: {'randomforestclassifier__max_depth': 4, 'randomforestclassifier__n_estimators': 50}\n",
      "最佳分数: 0.8806479113384483\n"
     ]
    },
    {
     "data": {
      "text/plain": [
       "['../models/random_oversampling_rf_model.pkl']"
      ]
     },
     "execution_count": 14,
     "metadata": {},
     "output_type": "execute_result"
    }
   ],
   "execution_count": 14
  },
  {
   "metadata": {
    "ExecuteTime": {
     "end_time": "2025-06-08T01:31:26.952378Z",
     "start_time": "2025-06-08T01:31:26.889951Z"
    }
   },
   "cell_type": "code",
   "source": "y_pred = grid_over_rf.best_estimator_.named_steps['randomforestclassifier'].predict(X_test)",
   "id": "2bff72ed02b4086c",
   "outputs": [],
   "execution_count": 15
  },
  {
   "metadata": {
    "ExecuteTime": {
     "end_time": "2025-06-08T01:31:27.031257Z",
     "start_time": "2025-06-08T01:31:26.999832Z"
    }
   },
   "cell_type": "code",
   "source": [
    "cm = confusion_matrix(y_test, y_pred)\n",
    "\n",
    "over_rf_Recall = recall_score(y_test, y_pred)\n",
    "over_rf_Precision = precision_score(y_test, y_pred)\n",
    "over_rf_f1 = f1_score(y_test, y_pred)\n",
    "over_rf_accuracy = accuracy_score(y_test, y_pred)\n",
    "\n",
    "print(cm)"
   ],
   "id": "2722697ddcca07c6",
   "outputs": [
    {
     "name": "stdout",
     "output_type": "stream",
     "text": [
      "[[56605   258]\n",
      " [   16    83]]\n"
     ]
    }
   ],
   "execution_count": 16
  },
  {
   "metadata": {
    "ExecuteTime": {
     "end_time": "2025-06-08T01:31:27.110291Z",
     "start_time": "2025-06-08T01:31:27.094355Z"
    }
   },
   "cell_type": "code",
   "source": [
    "ndf = [(over_rf_Recall, over_rf_Precision, over_rf_f1, over_rf_accuracy)]\n",
    "\n",
    "over_rf_score = pd.DataFrame(data=ndf, columns=['Recall', 'Precision', 'F1 Score', 'Accuracy'])\n",
    "over_rf_score.insert(0, 'Random Forest with', 'Random Oversampling')\n",
    "over_rf_score"
   ],
   "id": "ecd2e5b2a24310e5",
   "outputs": [
    {
     "data": {
      "text/plain": [
       "    Random Forest with    Recall  Precision  F1 Score  Accuracy\n",
       "0  Random Oversampling  0.838384   0.243402  0.377273   0.99519"
      ],
      "text/html": [
       "<div>\n",
       "<style scoped>\n",
       "    .dataframe tbody tr th:only-of-type {\n",
       "        vertical-align: middle;\n",
       "    }\n",
       "\n",
       "    .dataframe tbody tr th {\n",
       "        vertical-align: top;\n",
       "    }\n",
       "\n",
       "    .dataframe thead th {\n",
       "        text-align: right;\n",
       "    }\n",
       "</style>\n",
       "<table border=\"1\" class=\"dataframe\">\n",
       "  <thead>\n",
       "    <tr style=\"text-align: right;\">\n",
       "      <th></th>\n",
       "      <th>Random Forest with</th>\n",
       "      <th>Recall</th>\n",
       "      <th>Precision</th>\n",
       "      <th>F1 Score</th>\n",
       "      <th>Accuracy</th>\n",
       "    </tr>\n",
       "  </thead>\n",
       "  <tbody>\n",
       "    <tr>\n",
       "      <th>0</th>\n",
       "      <td>Random Oversampling</td>\n",
       "      <td>0.838384</td>\n",
       "      <td>0.243402</td>\n",
       "      <td>0.377273</td>\n",
       "      <td>0.99519</td>\n",
       "    </tr>\n",
       "  </tbody>\n",
       "</table>\n",
       "</div>"
      ]
     },
     "execution_count": 17,
     "metadata": {},
     "output_type": "execute_result"
    }
   ],
   "execution_count": 17
  },
  {
   "metadata": {},
   "cell_type": "markdown",
   "source": "#### 1.2.2 Random Undersampling随机欠采样",
   "id": "2ba7445c6efcdfb"
  },
  {
   "metadata": {
    "ExecuteTime": {
     "end_time": "2025-06-08T01:31:27.268338Z",
     "start_time": "2025-06-08T01:31:27.236646Z"
    }
   },
   "cell_type": "code",
   "source": [
    "from imblearn.under_sampling import RandomUnderSampler\n",
    "\n",
    "# 定义欠采样策略\n",
    "rus = RandomUnderSampler(random_state=42)\n",
    "\n",
    "# 拟合并应用变换\n",
    "X_under, y_under = rus.fit_resample(X_train, y_train)\n",
    "\n",
    "print('正常样本:', y_under.value_counts()[0], '/', round(y_under.value_counts()[0] / len(y_under) * 100, 2),\n",
    "      '% 的数据集')\n",
    "print('欺诈样本:', y_under.value_counts()[1], '/', round(y_under.value_counts()[1] / len(y_under) * 100, 2),\n",
    "      '% 的数据集')"
   ],
   "id": "37c7c56f06366083",
   "outputs": [
    {
     "name": "stdout",
     "output_type": "stream",
     "text": [
      "正常样本: 344 / 50.0 % 的数据集\n",
      "欺诈样本: 344 / 50.0 % 的数据集\n"
     ]
    }
   ],
   "execution_count": 18
  },
  {
   "metadata": {},
   "cell_type": "markdown",
   "source": "对于欠采样后的数据集，我们只有 662 条记录，因此利用该技术并不是最好的主意。",
   "id": "6e70eb528876c787"
  },
  {
   "metadata": {},
   "cell_type": "markdown",
   "source": "### 1.3 SMOTE",
   "id": "58533e7a93d898eb"
  },
  {
   "metadata": {
    "ExecuteTime": {
     "end_time": "2025-06-08T01:35:24.753789Z",
     "start_time": "2025-06-08T01:31:27.427300Z"
    }
   },
   "cell_type": "code",
   "source": [
    "from imblearn.over_sampling import SMOTE\n",
    "\n",
    "smote_pipeline = make_pipeline(SMOTE(random_state=42),\n",
    "                               RandomForestClassifier(n_estimators=100, random_state=13))\n",
    "#cross_val_score(smote_pipeline, X_train, y_train, scoring='recall', cv=kf)\n",
    "\n",
    "score3 = cross_val_score(smote_pipeline, X_train, y_train, scoring='recall', n_jobs=-1, cv=kf)\n",
    "print(\"交叉验证召回率分数为: {}\".format(score3))\n",
    "print(\"平均交叉验证召回率分数为: {}\".format(score3.mean()))"
   ],
   "id": "7afad65031fd008c",
   "outputs": [
    {
     "name": "stdout",
     "output_type": "stream",
     "text": [
      "交叉验证召回率分数为: [0.86956522 0.8115942  0.84057971 0.85507246 0.79411765]\n",
      "平均交叉验证召回率分数为: 0.8341858482523443\n"
     ]
    }
   ],
   "execution_count": 19
  },
  {
   "metadata": {
    "ExecuteTime": {
     "end_time": "2025-06-08T01:52:56.243329Z",
     "start_time": "2025-06-08T01:35:24.817425Z"
    }
   },
   "cell_type": "code",
   "source": [
    "new_params = {'randomforestclassifier__' + key: params[key] for key in params}\n",
    "smote_rf = GridSearchCV(smote_pipeline, param_grid=new_params, cv=kf, scoring='recall', n_jobs=-1,\n",
    "                        return_train_score=True)\n",
    "smote_rf.fit(X_train, y_train)\n",
    "print('最佳参数:', smote_rf.best_params_)\n",
    "print('最佳分数:', smote_rf.best_score_)\n",
    "\n",
    "# 保存模型到文件\n",
    "joblib.dump(smote_rf, '../models/smote_rf_model.pkl')\n"
   ],
   "id": "9ac14b91009ca3f3",
   "outputs": [
    {
     "name": "stdout",
     "output_type": "stream",
     "text": [
      "最佳参数: {'randomforestclassifier__max_depth': 6, 'randomforestclassifier__n_estimators': 100}\n",
      "最佳分数: 0.8777493606138107\n"
     ]
    },
    {
     "data": {
      "text/plain": [
       "['../models/smote_rf_model.pkl']"
      ]
     },
     "execution_count": 20,
     "metadata": {},
     "output_type": "execute_result"
    }
   ],
   "execution_count": 20
  },
  {
   "metadata": {
    "ExecuteTime": {
     "end_time": "2025-06-08T01:52:56.476033Z",
     "start_time": "2025-06-08T01:52:56.350395Z"
    }
   },
   "cell_type": "code",
   "source": "y_pred = smote_rf.best_estimator_.named_steps['randomforestclassifier'].predict(X_test)",
   "id": "834d5324ff6d2159",
   "outputs": [],
   "execution_count": 21
  },
  {
   "metadata": {},
   "cell_type": "markdown",
   "source": "混淆矩阵",
   "id": "eb127efde6673fa2"
  },
  {
   "metadata": {
    "ExecuteTime": {
     "end_time": "2025-06-08T01:52:56.571120Z",
     "start_time": "2025-06-08T01:52:56.539426Z"
    }
   },
   "cell_type": "code",
   "source": [
    "cm = confusion_matrix(y_test, y_pred)\n",
    "\n",
    "smote_rf_Recall = recall_score(y_test, y_pred)\n",
    "smote_rf_Precision = precision_score(y_test, y_pred)\n",
    "smote_rf_f1 = f1_score(y_test, y_pred)\n",
    "smote_rf_accuracy = accuracy_score(y_test, y_pred)\n",
    "\n",
    "print(cm)"
   ],
   "id": "777bd75d47f7178f",
   "outputs": [
    {
     "name": "stdout",
     "output_type": "stream",
     "text": [
      "[[56637   226]\n",
      " [   17    82]]\n"
     ]
    }
   ],
   "execution_count": 22
  },
  {
   "metadata": {
    "ExecuteTime": {
     "end_time": "2025-06-08T01:52:56.634188Z",
     "start_time": "2025-06-08T01:52:56.618335Z"
    }
   },
   "cell_type": "code",
   "source": [
    "ndf = [(smote_rf_Recall, smote_rf_Precision, smote_rf_f1, smote_rf_accuracy)]\n",
    "\n",
    "smote_rf_score = pd.DataFrame(data=ndf, columns=['Recall', 'Precision', 'F1 Score', 'Accuracy'])\n",
    "smote_rf_score.insert(0, 'Random Forest with', 'SMOTE Oversampling')\n",
    "smote_rf_score"
   ],
   "id": "a9f2afdf5036c176",
   "outputs": [
    {
     "data": {
      "text/plain": [
       "   Random Forest with    Recall  Precision  F1 Score  Accuracy\n",
       "0  SMOTE Oversampling  0.828283   0.266234  0.402948  0.995734"
      ],
      "text/html": [
       "<div>\n",
       "<style scoped>\n",
       "    .dataframe tbody tr th:only-of-type {\n",
       "        vertical-align: middle;\n",
       "    }\n",
       "\n",
       "    .dataframe tbody tr th {\n",
       "        vertical-align: top;\n",
       "    }\n",
       "\n",
       "    .dataframe thead th {\n",
       "        text-align: right;\n",
       "    }\n",
       "</style>\n",
       "<table border=\"1\" class=\"dataframe\">\n",
       "  <thead>\n",
       "    <tr style=\"text-align: right;\">\n",
       "      <th></th>\n",
       "      <th>Random Forest with</th>\n",
       "      <th>Recall</th>\n",
       "      <th>Precision</th>\n",
       "      <th>F1 Score</th>\n",
       "      <th>Accuracy</th>\n",
       "    </tr>\n",
       "  </thead>\n",
       "  <tbody>\n",
       "    <tr>\n",
       "      <th>0</th>\n",
       "      <td>SMOTE Oversampling</td>\n",
       "      <td>0.828283</td>\n",
       "      <td>0.266234</td>\n",
       "      <td>0.402948</td>\n",
       "      <td>0.995734</td>\n",
       "    </tr>\n",
       "  </tbody>\n",
       "</table>\n",
       "</div>"
      ]
     },
     "execution_count": 23,
     "metadata": {},
     "output_type": "execute_result"
    }
   ],
   "execution_count": 23
  },
  {
   "metadata": {},
   "cell_type": "markdown",
   "source": "### 1.4 Tomek Links欠采样",
   "id": "139e73caf15d08bf"
  },
  {
   "metadata": {
    "ExecuteTime": {
     "end_time": "2025-06-08T01:53:21.430422Z",
     "start_time": "2025-06-08T01:52:56.746468Z"
    }
   },
   "cell_type": "code",
   "source": [
    "from imblearn.under_sampling import TomekLinks\n",
    "\n",
    "# 定义欠采样方法\n",
    "# tomekU = TomekLinks(sampling_strategy='auto', n_jobs=-1)\n",
    "tomekU = TomekLinks()\n",
    "\n",
    "# 拟合并应用变换\n",
    "X_underT, y_underT = tomekU.fit_resample(X_train, y_train)"
   ],
   "id": "664c083f9b2b4af9",
   "outputs": [],
   "execution_count": 24
  },
  {
   "metadata": {
    "ExecuteTime": {
     "end_time": "2025-06-08T01:53:21.531508Z",
     "start_time": "2025-06-08T01:53:21.515620Z"
    }
   },
   "cell_type": "code",
   "source": [
    "print('正常样本:', y_underT.value_counts()[0], '/', round(y_underT.value_counts()[0] / len(y_underT) * 100, 2),\n",
    "      '% 的数据集')\n",
    "print('欺诈样本:', y_underT.value_counts()[1], '/', round(y_underT.value_counts()[1] / len(y_underT) * 100, 2),\n",
    "      '% 的数据集')"
   ],
   "id": "8bf325f611503b2f",
   "outputs": [
    {
     "name": "stdout",
     "output_type": "stream",
     "text": [
      "正常样本: 199011 / 99.83 % 的数据集\n",
      "欺诈样本: 344 / 0.17 % 的数据集\n"
     ]
    }
   ],
   "execution_count": 25
  },
  {
   "metadata": {},
   "cell_type": "markdown",
   "source": "### 1.5 结合 SMOTE 和 Tomek 链接",
   "id": "d06d121e5b1bf294"
  },
  {
   "metadata": {
    "ExecuteTime": {
     "end_time": "2025-06-08T01:53:21.642211Z",
     "start_time": "2025-06-08T01:53:21.626436Z"
    }
   },
   "cell_type": "code",
   "source": [
    "from imblearn.combine import SMOTETomek\n",
    "\n",
    "SMOTETomek_pipeline = make_pipeline(SMOTETomek(tomek=TomekLinks(sampling_strategy='majority')),\n",
    "                                    RandomForestClassifier(n_estimators=100, random_state=13))\n",
    "#cross_val_score(smote_pipeline, X_train, y_train, scoring='recall', cv=kf)"
   ],
   "id": "5bd73be86780e8bf",
   "outputs": [],
   "execution_count": 26
  },
  {
   "metadata": {},
   "cell_type": "markdown",
   "source": "GridSearchCV超参数调优",
   "id": "c9f82be083e164be"
  },
  {
   "metadata": {
    "ExecuteTime": {
     "end_time": "2025-06-08T01:53:21.715323Z",
     "start_time": "2025-06-08T01:53:21.699597Z"
    }
   },
   "cell_type": "code",
   "source": [
    "# # SMOTETomek_rf = SMOTETomek_pipeline\n",
    "# # SMOTETomek_rf.fit(X_train, y_train)\n",
    "# # 构建参数网格，注意参数名前缀\n",
    "# new_params = {'randomforestclassifier__' + key: params[key] for key in params}\n",
    "#\n",
    "# # 网格搜索调优\n",
    "# SMOTETomek_rf = GridSearchCV(\n",
    "#     SMOTETomek_pipeline,\n",
    "#     param_grid=new_params,\n",
    "#     cv=kf,\n",
    "#     scoring='recall',\n",
    "#     n_jobs=-1,\n",
    "#     return_train_score=True,\n",
    "#     verbose=2           # 显示详细进度\n",
    "# )\n",
    "# SMOTETomek_rf.fit(X_train, y_train)\n",
    "#\n",
    "# print('最佳参数:', SMOTETomek_rf.best_params_)\n",
    "# print('最佳分数:', SMOTETomek_rf.best_score_)\n",
    "#\n",
    "# # 保存模型到文件\n",
    "# joblib.dump(SMOTETomek_rf, '../models/SMOTETomek_rf_model.pkl')"
   ],
   "id": "9f107fb37555e06c",
   "outputs": [],
   "execution_count": 27
  },
  {
   "metadata": {
    "ExecuteTime": {
     "end_time": "2025-06-08T02:15:48.842763Z",
     "start_time": "2025-06-08T01:53:21.763177Z"
    }
   },
   "cell_type": "code",
   "source": [
    "from sklearn.experimental import enable_halving_search_cv  # 启用实验功能\n",
    "from sklearn.model_selection import HalvingGridSearchCV\n",
    "\n",
    "SH_SMOTETomek_rf = HalvingGridSearchCV(\n",
    "    SMOTETomek_pipeline,\n",
    "    param_grid=new_params,\n",
    "    cv=kf,\n",
    "    scoring='recall',\n",
    "    n_jobs=-1,\n",
    "    verbose=2,          # 显示进度\n",
    "    factor=2            # 每轮淘汰一半的参数组合\n",
    ")\n",
    "SH_SMOTETomek_rf.fit(X_train, y_train)\n",
    "\n",
    "print('最佳参数:', SH_SMOTETomek_rf.best_params_)\n",
    "print('最佳分数:', SH_SMOTETomek_rf.best_score_)\n",
    "\n",
    "# 保存模型到文件\n",
    "joblib.dump(SH_SMOTETomek_rf, '../models/SMOTETomek_rf_model.pkl')"
   ],
   "id": "292d1b25d58dac6a",
   "outputs": [
    {
     "name": "stdout",
     "output_type": "stream",
     "text": [
      "n_iterations: 4\n",
      "n_required_iterations: 4\n",
      "n_possible_iterations: 4\n",
      "min_resources_: 24920\n",
      "max_resources_: 199364\n",
      "aggressive_elimination: False\n",
      "factor: 2\n",
      "----------\n",
      "iter: 0\n",
      "n_candidates: 12\n",
      "n_resources: 24920\n",
      "Fitting 5 folds for each of 12 candidates, totalling 60 fits\n",
      "----------\n",
      "iter: 1\n",
      "n_candidates: 6\n",
      "n_resources: 49840\n",
      "Fitting 5 folds for each of 6 candidates, totalling 30 fits\n",
      "----------\n",
      "iter: 2\n",
      "n_candidates: 3\n",
      "n_resources: 99680\n",
      "Fitting 5 folds for each of 3 candidates, totalling 15 fits\n",
      "----------\n",
      "iter: 3\n",
      "n_candidates: 2\n",
      "n_resources: 199360\n",
      "Fitting 5 folds for each of 2 candidates, totalling 10 fits\n",
      "最佳参数: {'randomforestclassifier__max_depth': 4, 'randomforestclassifier__n_estimators': 100}\n",
      "最佳分数: 0.8690537084398976\n"
     ]
    },
    {
     "data": {
      "text/plain": [
       "['../models/SMOTETomek_rf_model.pkl']"
      ]
     },
     "execution_count": 28,
     "metadata": {},
     "output_type": "execute_result"
    }
   ],
   "execution_count": 28
  },
  {
   "metadata": {
    "ExecuteTime": {
     "end_time": "2025-06-08T02:15:49.049236Z",
     "start_time": "2025-06-08T02:15:48.938496Z"
    }
   },
   "cell_type": "code",
   "source": "y_pred = SH_SMOTETomek_rf.predict(X_test)",
   "id": "38f83d70d97c7ad7",
   "outputs": [],
   "execution_count": 29
  },
  {
   "metadata": {
    "ExecuteTime": {
     "end_time": "2025-06-08T02:15:49.128289Z",
     "start_time": "2025-06-08T02:15:49.096765Z"
    }
   },
   "cell_type": "code",
   "source": [
    "cm = confusion_matrix(y_test, y_pred)\n",
    "\n",
    "SMOTETomek_rf_Recall = recall_score(y_test, y_pred)\n",
    "SMOTETomek_rf_Precision = precision_score(y_test, y_pred)\n",
    "SMOTETomek_rf_f1 = f1_score(y_test, y_pred)\n",
    "SMOTETomek_rf_accuracy = accuracy_score(y_test, y_pred)\n",
    "\n",
    "print(cm)"
   ],
   "id": "c4f81df279422838",
   "outputs": [
    {
     "name": "stdout",
     "output_type": "stream",
     "text": [
      "[[56531   332]\n",
      " [   17    82]]\n"
     ]
    }
   ],
   "execution_count": 30
  },
  {
   "metadata": {
    "ExecuteTime": {
     "end_time": "2025-06-08T02:15:49.218999Z",
     "start_time": "2025-06-08T02:15:49.201839Z"
    }
   },
   "cell_type": "code",
   "source": [
    "ndf = [(SMOTETomek_rf_Recall, SMOTETomek_rf_Precision, SMOTETomek_rf_f1, SMOTETomek_rf_accuracy)]\n",
    "\n",
    "SMOTETomek_rf_score = pd.DataFrame(data=ndf, columns=['Recall', 'Precision', 'F1 Score', 'Accuracy'])\n",
    "SMOTETomek_rf_score.insert(0, 'Random Forest with', 'SMOTE + Tomek')\n",
    "SMOTETomek_rf_score"
   ],
   "id": "820e80e79c7bfab0",
   "outputs": [
    {
     "data": {
      "text/plain": [
       "  Random Forest with    Recall  Precision  F1 Score  Accuracy\n",
       "0      SMOTE + Tomek  0.828283   0.198068  0.319688  0.993873"
      ],
      "text/html": [
       "<div>\n",
       "<style scoped>\n",
       "    .dataframe tbody tr th:only-of-type {\n",
       "        vertical-align: middle;\n",
       "    }\n",
       "\n",
       "    .dataframe tbody tr th {\n",
       "        vertical-align: top;\n",
       "    }\n",
       "\n",
       "    .dataframe thead th {\n",
       "        text-align: right;\n",
       "    }\n",
       "</style>\n",
       "<table border=\"1\" class=\"dataframe\">\n",
       "  <thead>\n",
       "    <tr style=\"text-align: right;\">\n",
       "      <th></th>\n",
       "      <th>Random Forest with</th>\n",
       "      <th>Recall</th>\n",
       "      <th>Precision</th>\n",
       "      <th>F1 Score</th>\n",
       "      <th>Accuracy</th>\n",
       "    </tr>\n",
       "  </thead>\n",
       "  <tbody>\n",
       "    <tr>\n",
       "      <th>0</th>\n",
       "      <td>SMOTE + Tomek</td>\n",
       "      <td>0.828283</td>\n",
       "      <td>0.198068</td>\n",
       "      <td>0.319688</td>\n",
       "      <td>0.993873</td>\n",
       "    </tr>\n",
       "  </tbody>\n",
       "</table>\n",
       "</div>"
      ]
     },
     "execution_count": 31,
     "metadata": {},
     "output_type": "execute_result"
    }
   ],
   "execution_count": 31
  },
  {
   "metadata": {},
   "cell_type": "markdown",
   "source": "### 1.6 Class weights in the models",
   "id": "be8c4aaba44d732e"
  },
  {
   "metadata": {
    "ExecuteTime": {
     "end_time": "2025-06-08T02:15:49.345146Z",
     "start_time": "2025-06-08T02:15:49.329325Z"
    }
   },
   "cell_type": "code",
   "source": [
    "# 如果选择 class_weight = \"balanced\"，\n",
    "# 各类别的权重会根据其在数据中出现的频率自动调整，类别越少权重越大。\n",
    "\n",
    "rfb = RandomForestClassifier(n_estimators=100, random_state=13, class_weight=\"balanced\")"
   ],
   "id": "23f315a3804764b2",
   "outputs": [],
   "execution_count": 32
  },
  {
   "metadata": {
    "ExecuteTime": {
     "end_time": "2025-06-08T02:16:58.003299Z",
     "start_time": "2025-06-08T02:15:49.440186Z"
    }
   },
   "cell_type": "code",
   "source": [
    "score5 = cross_val_score(rfb, X_train, y_train, cv=kf, scoring='recall', n_jobs=-1)\n",
    "print(\"交叉验证召回率分数为: {}\".format(score5))\n",
    "print(\"平均交叉验证召回率分数为: {}\".format(score5.mean()))"
   ],
   "id": "8ab9430cf8c862c7",
   "outputs": [
    {
     "name": "stdout",
     "output_type": "stream",
     "text": [
      "交叉验证召回率分数为: [0.8115942  0.66666667 0.75362319 0.8115942  0.75      ]\n",
      "平均交叉验证召回率分数为: 0.7586956521739131\n"
     ]
    }
   ],
   "execution_count": 33
  },
  {
   "metadata": {
    "ExecuteTime": {
     "end_time": "2025-06-08T02:23:49.511307Z",
     "start_time": "2025-06-08T02:16:58.114148Z"
    }
   },
   "cell_type": "code",
   "source": [
    "grid_rfb = GridSearchCV(rfb, param_grid=params, cv=kf,\n",
    "                        scoring='recall', n_jobs=-1).fit(X_train, y_train)\n",
    "# 保存模型到文件\n",
    "joblib.dump(grid_rfb, '../models/Classweights_rf_model.pkl')"
   ],
   "id": "7da0aa240db8211c",
   "outputs": [
    {
     "data": {
      "text/plain": [
       "['../models/Classweights_rf_model.pkl']"
      ]
     },
     "execution_count": 34,
     "metadata": {},
     "output_type": "execute_result"
    }
   ],
   "execution_count": 34
  },
  {
   "metadata": {
    "ExecuteTime": {
     "end_time": "2025-06-08T02:23:49.665960Z",
     "start_time": "2025-06-08T02:23:49.573322Z"
    }
   },
   "cell_type": "code",
   "source": "y_pred = grid_rfb.predict(X_test)",
   "id": "85564fd9a3ca8122",
   "outputs": [],
   "execution_count": 35
  },
  {
   "metadata": {
    "ExecuteTime": {
     "end_time": "2025-06-08T02:23:49.744582Z",
     "start_time": "2025-06-08T02:23:49.713611Z"
    }
   },
   "cell_type": "code",
   "source": [
    "cm = confusion_matrix(y_test, y_pred)\n",
    "\n",
    "grid_rfb_Recall = recall_score(y_test, y_pred)\n",
    "grid_rfb_Precision = precision_score(y_test, y_pred)\n",
    "grid_rfb_f1 = f1_score(y_test, y_pred)\n",
    "grid_rfb_accuracy = accuracy_score(y_test, y_pred)\n",
    "\n",
    "print(cm)"
   ],
   "id": "23523f8ae29b85c7",
   "outputs": [
    {
     "name": "stdout",
     "output_type": "stream",
     "text": [
      "[[56649   214]\n",
      " [   17    82]]\n"
     ]
    }
   ],
   "execution_count": 36
  },
  {
   "metadata": {
    "ExecuteTime": {
     "end_time": "2025-06-08T02:23:49.858388Z",
     "start_time": "2025-06-08T02:23:49.839940Z"
    }
   },
   "cell_type": "code",
   "source": [
    "ndf = [(grid_rfb_Recall, grid_rfb_Precision, grid_rfb_f1, grid_rfb_accuracy)]\n",
    "\n",
    "grid_rfb_score = pd.DataFrame(data=ndf, columns=['Recall', 'Precision', 'F1 Score', 'Accuracy'])\n",
    "grid_rfb_score.insert(0, 'Random Forest with', 'Class weights')\n",
    "grid_rfb_score"
   ],
   "id": "66da6b901be47fe8",
   "outputs": [
    {
     "data": {
      "text/plain": [
       "  Random Forest with    Recall  Precision  F1 Score  Accuracy\n",
       "0      Class weights  0.828283   0.277027   0.41519  0.995945"
      ],
      "text/html": [
       "<div>\n",
       "<style scoped>\n",
       "    .dataframe tbody tr th:only-of-type {\n",
       "        vertical-align: middle;\n",
       "    }\n",
       "\n",
       "    .dataframe tbody tr th {\n",
       "        vertical-align: top;\n",
       "    }\n",
       "\n",
       "    .dataframe thead th {\n",
       "        text-align: right;\n",
       "    }\n",
       "</style>\n",
       "<table border=\"1\" class=\"dataframe\">\n",
       "  <thead>\n",
       "    <tr style=\"text-align: right;\">\n",
       "      <th></th>\n",
       "      <th>Random Forest with</th>\n",
       "      <th>Recall</th>\n",
       "      <th>Precision</th>\n",
       "      <th>F1 Score</th>\n",
       "      <th>Accuracy</th>\n",
       "    </tr>\n",
       "  </thead>\n",
       "  <tbody>\n",
       "    <tr>\n",
       "      <th>0</th>\n",
       "      <td>Class weights</td>\n",
       "      <td>0.828283</td>\n",
       "      <td>0.277027</td>\n",
       "      <td>0.41519</td>\n",
       "      <td>0.995945</td>\n",
       "    </tr>\n",
       "  </tbody>\n",
       "</table>\n",
       "</div>"
      ]
     },
     "execution_count": 37,
     "metadata": {},
     "output_type": "execute_result"
    }
   ],
   "execution_count": 37
  },
  {
   "metadata": {},
   "cell_type": "markdown",
   "source": "性能对比",
   "id": "e9811f2ecabd731e"
  },
  {
   "metadata": {
    "ExecuteTime": {
     "end_time": "2025-06-08T02:23:50.014890Z",
     "start_time": "2025-06-08T02:23:49.999081Z"
    }
   },
   "cell_type": "code",
   "source": [
    "predictions = pd.concat([rf_score, over_rf_score, smote_rf_score, SMOTETomek_rf_score, grid_rfb_score],\n",
    "                        ignore_index=True, sort=False)\n",
    "predictions.sort_values(by=['Recall'], ascending=False)"
   ],
   "id": "2e961a79760b14b1",
   "outputs": [
    {
     "data": {
      "text/plain": [
       "      Random Forest with    Recall  Precision  F1 Score  Accuracy\n",
       "1    Random Oversampling  0.838384   0.243402  0.377273  0.995190\n",
       "3          SMOTE + Tomek  0.828283   0.198068  0.319688  0.993873\n",
       "2     SMOTE Oversampling  0.828283   0.266234  0.402948  0.995734\n",
       "4          Class weights  0.828283   0.277027  0.415190  0.995945\n",
       "0  No Under/Oversampling  0.737374   0.986486  0.843931  0.999526"
      ],
      "text/html": [
       "<div>\n",
       "<style scoped>\n",
       "    .dataframe tbody tr th:only-of-type {\n",
       "        vertical-align: middle;\n",
       "    }\n",
       "\n",
       "    .dataframe tbody tr th {\n",
       "        vertical-align: top;\n",
       "    }\n",
       "\n",
       "    .dataframe thead th {\n",
       "        text-align: right;\n",
       "    }\n",
       "</style>\n",
       "<table border=\"1\" class=\"dataframe\">\n",
       "  <thead>\n",
       "    <tr style=\"text-align: right;\">\n",
       "      <th></th>\n",
       "      <th>Random Forest with</th>\n",
       "      <th>Recall</th>\n",
       "      <th>Precision</th>\n",
       "      <th>F1 Score</th>\n",
       "      <th>Accuracy</th>\n",
       "    </tr>\n",
       "  </thead>\n",
       "  <tbody>\n",
       "    <tr>\n",
       "      <th>1</th>\n",
       "      <td>Random Oversampling</td>\n",
       "      <td>0.838384</td>\n",
       "      <td>0.243402</td>\n",
       "      <td>0.377273</td>\n",
       "      <td>0.995190</td>\n",
       "    </tr>\n",
       "    <tr>\n",
       "      <th>3</th>\n",
       "      <td>SMOTE + Tomek</td>\n",
       "      <td>0.828283</td>\n",
       "      <td>0.198068</td>\n",
       "      <td>0.319688</td>\n",
       "      <td>0.993873</td>\n",
       "    </tr>\n",
       "    <tr>\n",
       "      <th>2</th>\n",
       "      <td>SMOTE Oversampling</td>\n",
       "      <td>0.828283</td>\n",
       "      <td>0.266234</td>\n",
       "      <td>0.402948</td>\n",
       "      <td>0.995734</td>\n",
       "    </tr>\n",
       "    <tr>\n",
       "      <th>4</th>\n",
       "      <td>Class weights</td>\n",
       "      <td>0.828283</td>\n",
       "      <td>0.277027</td>\n",
       "      <td>0.415190</td>\n",
       "      <td>0.995945</td>\n",
       "    </tr>\n",
       "    <tr>\n",
       "      <th>0</th>\n",
       "      <td>No Under/Oversampling</td>\n",
       "      <td>0.737374</td>\n",
       "      <td>0.986486</td>\n",
       "      <td>0.843931</td>\n",
       "      <td>0.999526</td>\n",
       "    </tr>\n",
       "  </tbody>\n",
       "</table>\n",
       "</div>"
      ]
     },
     "execution_count": 38,
     "metadata": {},
     "output_type": "execute_result"
    }
   ],
   "execution_count": 38
  },
  {
   "metadata": {},
   "cell_type": "markdown",
   "source": "## 2 XGBoost",
   "id": "a5039fae32acde79"
  },
  {
   "metadata": {
    "ExecuteTime": {
     "end_time": "2025-06-09T01:08:15.401014Z",
     "start_time": "2025-06-09T01:08:12.291926Z"
    }
   },
   "cell_type": "code",
   "source": [
    "import xgboost as xgb\n",
    "from xgboost import XGBClassifier\n",
    "from sklearn.metrics import confusion_matrix, recall_score, precision_score, f1_score, accuracy_score\n",
    "\n",
    "# 1. 创建XGBoost分类器\n",
    "scale_pos_weight = len(y_train[y_train == 0]) / len(y_train[y_train == 1])\n",
    "xgb_model = XGBClassifier(random_state=13, eval_metric='logloss', scale_pos_weight=scale_pos_weight)\n",
    "# xgb = XGBClassifier(n_estimators=100, max_depth=6, learning_rate=0.1, random_state=13, eval_metric='logloss', scale_pos_weight=scale_pos_weight)\n",
    "\n",
    "score_xgb_model = cross_val_score(xgb_model, X_train, y_train, cv=kf, scoring='recall', n_jobs=-1)\n",
    "print(\"交叉验证召回率分数为: {}\".format(score_xgb_model))\n",
    "print(\"平均交叉验证召回率分数为: {}\".format(score_xgb_model.mean()))"
   ],
   "id": "c2c28391b2dae7ea",
   "outputs": [
    {
     "name": "stdout",
     "output_type": "stream",
     "text": [
      "交叉验证召回率分数为: [0.8115942  0.8115942  0.82608696 0.82608696 0.79411765]\n",
      "平均交叉验证召回率分数为: 0.8138959931798807\n"
     ]
    }
   ],
   "execution_count": 33
  },
  {
   "metadata": {
    "ExecuteTime": {
     "end_time": "2025-06-09T01:08:17.299275Z",
     "start_time": "2025-06-09T01:08:16.839329Z"
    }
   },
   "cell_type": "code",
   "source": [
    "# 2. 训练模型\n",
    "xgb_model.fit(X_train, y_train)\n",
    "# 保存模型到文件\n",
    "joblib.dump(xgb_model, '../models/xgb_model.pkl')"
   ],
   "id": "7808b88a4b055b83",
   "outputs": [
    {
     "data": {
      "text/plain": [
       "['../models/xgb_model.pkl']"
      ]
     },
     "execution_count": 34,
     "metadata": {},
     "output_type": "execute_result"
    }
   ],
   "execution_count": 34
  },
  {
   "metadata": {
    "ExecuteTime": {
     "end_time": "2025-06-09T01:08:21.885935Z",
     "start_time": "2025-06-09T01:08:21.853824Z"
    }
   },
   "cell_type": "code",
   "source": "y_pred = xgb_model.predict(X_test)",
   "id": "ab9435698d1ca284",
   "outputs": [],
   "execution_count": 35
  },
  {
   "metadata": {
    "ExecuteTime": {
     "end_time": "2025-06-09T01:08:23.613675Z",
     "start_time": "2025-06-09T01:08:23.582387Z"
    }
   },
   "cell_type": "code",
   "source": [
    "cm = confusion_matrix(y_test, y_pred)\n",
    "\n",
    "xgb_recall = recall_score(y_test, y_pred)\n",
    "xgb_precision = precision_score(y_test, y_pred)\n",
    "xgb_f1 = f1_score(y_test, y_pred)\n",
    "xgb_accuracy = accuracy_score(y_test, y_pred)\n",
    "\n",
    "print(cm)"
   ],
   "id": "28d780f7cbc65159",
   "outputs": [
    {
     "name": "stdout",
     "output_type": "stream",
     "text": [
      "[[56852    11]\n",
      " [   22    77]]\n"
     ]
    }
   ],
   "execution_count": 36
  },
  {
   "metadata": {
    "ExecuteTime": {
     "end_time": "2025-06-09T01:08:30.727637Z",
     "start_time": "2025-06-09T01:08:30.703762Z"
    }
   },
   "cell_type": "code",
   "source": [
    "ndf = [(xgb_recall, xgb_precision, xgb_f1, xgb_accuracy)]\n",
    "\n",
    "xgb_score = pd.DataFrame(data=ndf, columns=['Recall', 'Precision', 'F1 Score', 'Accuracy'])\n",
    "xgb_score.insert(0, 'Models', 'XGBoost')\n",
    "xgb_score"
   ],
   "id": "3ef9550cf3f96e44",
   "outputs": [
    {
     "data": {
      "text/plain": [
       "    Models    Recall  Precision  F1 Score  Accuracy\n",
       "0  XGBoost  0.777778      0.875  0.823529  0.999421"
      ],
      "text/html": [
       "<div>\n",
       "<style scoped>\n",
       "    .dataframe tbody tr th:only-of-type {\n",
       "        vertical-align: middle;\n",
       "    }\n",
       "\n",
       "    .dataframe tbody tr th {\n",
       "        vertical-align: top;\n",
       "    }\n",
       "\n",
       "    .dataframe thead th {\n",
       "        text-align: right;\n",
       "    }\n",
       "</style>\n",
       "<table border=\"1\" class=\"dataframe\">\n",
       "  <thead>\n",
       "    <tr style=\"text-align: right;\">\n",
       "      <th></th>\n",
       "      <th>Models</th>\n",
       "      <th>Recall</th>\n",
       "      <th>Precision</th>\n",
       "      <th>F1 Score</th>\n",
       "      <th>Accuracy</th>\n",
       "    </tr>\n",
       "  </thead>\n",
       "  <tbody>\n",
       "    <tr>\n",
       "      <th>0</th>\n",
       "      <td>XGBoost</td>\n",
       "      <td>0.777778</td>\n",
       "      <td>0.875</td>\n",
       "      <td>0.823529</td>\n",
       "      <td>0.999421</td>\n",
       "    </tr>\n",
       "  </tbody>\n",
       "</table>\n",
       "</div>"
      ]
     },
     "execution_count": 37,
     "metadata": {},
     "output_type": "execute_result"
    }
   ],
   "execution_count": 37
  },
  {
   "metadata": {},
   "cell_type": "markdown",
   "source": "超参数调优",
   "id": "4fedafc2932a186b"
  },
  {
   "metadata": {
    "ExecuteTime": {
     "end_time": "2025-06-09T01:10:58.688652Z",
     "start_time": "2025-06-09T01:10:21.883170Z"
    }
   },
   "cell_type": "code",
   "source": [
    "from sklearn.model_selection import GridSearchCV\n",
    "# # 定义模型\n",
    "# scale_pos_weight = len(y_train[y_train==0]) / len(y_train[y_train==1])\n",
    "# xgb = XGBClassifier(random_state=13, eval_metric='logloss', scale_pos_weight=scale_pos_weight)\n",
    "grid_xgb_model = XGBClassifier(random_state=13, eval_metric='logloss')\n",
    "\n",
    "# 定义参数网格\n",
    "params = {\n",
    "    'n_estimators': [50, 100, 200],\n",
    "    'max_depth': [4, 6, 10],\n",
    "    'learning_rate': [0.01, 0.1, 0.2]\n",
    "}\n",
    "\n",
    "# 创建GridSearchCV对象\n",
    "grid_xgb = GridSearchCV(estimator=grid_xgb_model, param_grid=params, scoring='recall', cv=5, n_jobs=-1)\n",
    "\n",
    "# 拟合模型\n",
    "grid_xgb.fit(X_train, y_train)\n",
    "\n",
    "# 输出最佳参数和分数\n",
    "print('最佳参数:', grid_xgb.best_params_)\n",
    "print('最佳分数:', grid_xgb.best_score_)\n",
    "\n",
    "# 保存模型到文件\n",
    "joblib.dump(grid_xgb, '../models/grid_xgb_model.pkl')"
   ],
   "id": "83dc7b528357c7ef",
   "outputs": [
    {
     "name": "stdout",
     "output_type": "stream",
     "text": [
      "最佳参数: {'learning_rate': 0.2, 'max_depth': 6, 'n_estimators': 200}\n",
      "最佳分数: 0.8080988917306053\n"
     ]
    },
    {
     "data": {
      "text/plain": [
       "['../models/grid_xgb_model.pkl']"
      ]
     },
     "execution_count": 39,
     "metadata": {},
     "output_type": "execute_result"
    }
   ],
   "execution_count": 39
  },
  {
   "metadata": {
    "ExecuteTime": {
     "end_time": "2025-06-09T01:11:02.257273Z",
     "start_time": "2025-06-09T01:11:02.206800Z"
    }
   },
   "cell_type": "code",
   "source": "y_pred = grid_xgb.predict(X_test)",
   "id": "cc3c4fb3bb2dde26",
   "outputs": [],
   "execution_count": 40
  },
  {
   "metadata": {
    "ExecuteTime": {
     "end_time": "2025-06-09T01:11:03.320664Z",
     "start_time": "2025-06-09T01:11:03.283830Z"
    }
   },
   "cell_type": "code",
   "source": [
    "cm = confusion_matrix(y_test, y_pred)\n",
    "\n",
    "grid_xgb_recall = recall_score(y_test, y_pred)\n",
    "grid_xgb_precision = precision_score(y_test, y_pred)\n",
    "grid_xgb_f1 = f1_score(y_test, y_pred)\n",
    "grid_xgb_accuracy = accuracy_score(y_test, y_pred)\n",
    "\n",
    "print(cm)"
   ],
   "id": "c2198c4f7ba60a9b",
   "outputs": [
    {
     "name": "stdout",
     "output_type": "stream",
     "text": [
      "[[56860     3]\n",
      " [   24    75]]\n"
     ]
    }
   ],
   "execution_count": 41
  },
  {
   "metadata": {
    "ExecuteTime": {
     "end_time": "2025-06-09T01:11:05.747399Z",
     "start_time": "2025-06-09T01:11:05.731679Z"
    }
   },
   "cell_type": "code",
   "source": [
    "ndf = [(grid_xgb_recall, grid_xgb_precision, grid_xgb_f1, grid_xgb_accuracy)]\n",
    "\n",
    "grid_xgb_score = pd.DataFrame(data=ndf, columns=['Recall', 'Precision', 'F1 Score', 'Accuracy'])\n",
    "grid_xgb_score.insert(0, 'Models', 'XGBoost_GridSearchCV')\n",
    "grid_xgb_score"
   ],
   "id": "9589835cfad4c9e9",
   "outputs": [
    {
     "data": {
      "text/plain": [
       "                 Models    Recall  Precision  F1 Score  Accuracy\n",
       "0  XGBoost_GridSearchCV  0.757576   0.961538  0.847458  0.999526"
      ],
      "text/html": [
       "<div>\n",
       "<style scoped>\n",
       "    .dataframe tbody tr th:only-of-type {\n",
       "        vertical-align: middle;\n",
       "    }\n",
       "\n",
       "    .dataframe tbody tr th {\n",
       "        vertical-align: top;\n",
       "    }\n",
       "\n",
       "    .dataframe thead th {\n",
       "        text-align: right;\n",
       "    }\n",
       "</style>\n",
       "<table border=\"1\" class=\"dataframe\">\n",
       "  <thead>\n",
       "    <tr style=\"text-align: right;\">\n",
       "      <th></th>\n",
       "      <th>Models</th>\n",
       "      <th>Recall</th>\n",
       "      <th>Precision</th>\n",
       "      <th>F1 Score</th>\n",
       "      <th>Accuracy</th>\n",
       "    </tr>\n",
       "  </thead>\n",
       "  <tbody>\n",
       "    <tr>\n",
       "      <th>0</th>\n",
       "      <td>XGBoost_GridSearchCV</td>\n",
       "      <td>0.757576</td>\n",
       "      <td>0.961538</td>\n",
       "      <td>0.847458</td>\n",
       "      <td>0.999526</td>\n",
       "    </tr>\n",
       "  </tbody>\n",
       "</table>\n",
       "</div>"
      ]
     },
     "execution_count": 42,
     "metadata": {},
     "output_type": "execute_result"
    }
   ],
   "execution_count": 42
  },
  {
   "metadata": {},
   "cell_type": "markdown",
   "source": "### SMOTE and Tomek Links",
   "id": "1d240b44fe1eabb1"
  },
  {
   "metadata": {
    "ExecuteTime": {
     "end_time": "2025-06-09T01:32:12.163690Z",
     "start_time": "2025-06-09T01:30:54.269300Z"
    }
   },
   "cell_type": "code",
   "source": [
    "# 忽略FutureWarning警告\n",
    "import warnings\n",
    "warnings.filterwarnings(\"ignore\", category=FutureWarning)\n",
    "from imblearn.over_sampling import SMOTE\n",
    "# 使用SMOTE进行过采样，平衡训练集\n",
    "smote = SMOTE(random_state=42)\n",
    "X_train_resampled, y_train_resampled = smote.fit_resample(X_train, y_train)\n",
    "\n",
    "from imblearn.under_sampling import TomekLinks\n",
    "\n",
    "# 使用TomekLinks进行欠采样（调整顺序后先过采样再欠采样）\n",
    "tomek = TomekLinks()\n",
    "X_train_resampled, y_train_resampled = tomek.fit_resample(X_train_resampled, y_train_resampled)"
   ],
   "id": "d243a7768d735d04",
   "outputs": [],
   "execution_count": 53
  },
  {
   "metadata": {
    "ExecuteTime": {
     "end_time": "2025-06-09T01:32:24.237707Z",
     "start_time": "2025-06-09T01:32:20.106933Z"
    }
   },
   "cell_type": "code",
   "source": [
    "st_xgb_model = XGBClassifier(scale_pos_weight=scale_pos_weight)  # 适应不平衡数据\n",
    "st_xgb_model.fit(X_train_resampled, y_train_resampled)\n",
    "\n",
    "score_st_xgb = cross_val_score(st_xgb_model, X_train, y_train, cv=kf, scoring='recall', n_jobs=-1)\n",
    "print(\"交叉验证召回率分数为: {}\".format(score_xgb))\n",
    "print(\"平均交叉验证召回率分数为: {}\".format(score_xgb.mean()))"
   ],
   "id": "d9bcd276355212f2",
   "outputs": [
    {
     "name": "stdout",
     "output_type": "stream",
     "text": [
      "交叉验证召回率分数为: [0.8115942  0.8115942  0.82608696 0.82608696 0.79411765]\n",
      "平均交叉验证召回率分数为: 0.8138959931798807\n"
     ]
    }
   ],
   "execution_count": 54
  },
  {
   "metadata": {
    "ExecuteTime": {
     "end_time": "2025-06-09T01:36:59.673972Z",
     "start_time": "2025-06-09T01:36:27.193781Z"
    }
   },
   "cell_type": "code",
   "source": [
    "params = {'n_estimators': [100, 200], 'max_depth': [3, 6, 9]}\n",
    "st_xgb_model = GridSearchCV(xgb.XGBClassifier(), param_grid=params, cv=5)\n",
    "st_xgb_model.fit(X_train_resampled, y_train_resampled)\n",
    "\n",
    "# 输出最佳参数和分数\n",
    "print('最佳参数:', st_xgb_model.best_params_)\n",
    "print('最佳分数:', st_xgb_model.best_score_)\n",
    "\n",
    "joblib.dump(st_xgb_model, '../models/st_xgb_model.pkl')"
   ],
   "id": "abd4941784aff285",
   "outputs": [
    {
     "name": "stdout",
     "output_type": "stream",
     "text": [
      "最佳参数: {'max_depth': 6, 'n_estimators': 200}\n",
      "最佳分数: 0.9998718099731893\n"
     ]
    },
    {
     "data": {
      "text/plain": [
       "['../models/st_xgb_model.pkl']"
      ]
     },
     "execution_count": 55,
     "metadata": {},
     "output_type": "execute_result"
    }
   ],
   "execution_count": 55
  },
  {
   "metadata": {
    "ExecuteTime": {
     "end_time": "2025-06-09T01:37:07.220410Z",
     "start_time": "2025-06-09T01:37:07.171037Z"
    }
   },
   "cell_type": "code",
   "source": "y_pred = st_xgb_model.predict(X_test)",
   "id": "8cadd84220adbcd5",
   "outputs": [],
   "execution_count": 56
  },
  {
   "metadata": {
    "ExecuteTime": {
     "end_time": "2025-06-09T01:37:08.218265Z",
     "start_time": "2025-06-09T01:37:08.192771Z"
    }
   },
   "cell_type": "code",
   "source": [
    "cm = confusion_matrix(y_test, y_pred)\n",
    "\n",
    "st_xgb_recall = recall_score(y_test, y_pred)\n",
    "st_xgb_precision = precision_score(y_test, y_pred)\n",
    "st_xgb_f1 = f1_score(y_test, y_pred)\n",
    "st_xgb_accuracy = accuracy_score(y_test, y_pred)\n",
    "\n",
    "print(cm)"
   ],
   "id": "255db402e59be4c0",
   "outputs": [
    {
     "name": "stdout",
     "output_type": "stream",
     "text": [
      "[[56848    15]\n",
      " [   21    78]]\n"
     ]
    }
   ],
   "execution_count": 57
  },
  {
   "metadata": {
    "ExecuteTime": {
     "end_time": "2025-06-09T01:37:12.321889Z",
     "start_time": "2025-06-09T01:37:12.308656Z"
    }
   },
   "cell_type": "code",
   "source": [
    "ndf = [(st_xgb_recall, st_xgb_precision, st_xgb_f1, st_xgb_accuracy)]\n",
    "\n",
    "st_xgb_score = pd.DataFrame(data=ndf, columns=['Recall', 'Precision', 'F1 Score', 'Accuracy'])\n",
    "st_xgb_score.insert(0, 'Models', 'XGBoost_st')\n",
    "st_xgb_score"
   ],
   "id": "134758b2040f5475",
   "outputs": [
    {
     "data": {
      "text/plain": [
       "       Models    Recall  Precision  F1 Score  Accuracy\n",
       "0  XGBoost_st  0.787879    0.83871    0.8125  0.999368"
      ],
      "text/html": [
       "<div>\n",
       "<style scoped>\n",
       "    .dataframe tbody tr th:only-of-type {\n",
       "        vertical-align: middle;\n",
       "    }\n",
       "\n",
       "    .dataframe tbody tr th {\n",
       "        vertical-align: top;\n",
       "    }\n",
       "\n",
       "    .dataframe thead th {\n",
       "        text-align: right;\n",
       "    }\n",
       "</style>\n",
       "<table border=\"1\" class=\"dataframe\">\n",
       "  <thead>\n",
       "    <tr style=\"text-align: right;\">\n",
       "      <th></th>\n",
       "      <th>Models</th>\n",
       "      <th>Recall</th>\n",
       "      <th>Precision</th>\n",
       "      <th>F1 Score</th>\n",
       "      <th>Accuracy</th>\n",
       "    </tr>\n",
       "  </thead>\n",
       "  <tbody>\n",
       "    <tr>\n",
       "      <th>0</th>\n",
       "      <td>XGBoost_st</td>\n",
       "      <td>0.787879</td>\n",
       "      <td>0.83871</td>\n",
       "      <td>0.8125</td>\n",
       "      <td>0.999368</td>\n",
       "    </tr>\n",
       "  </tbody>\n",
       "</table>\n",
       "</div>"
      ]
     },
     "execution_count": 58,
     "metadata": {},
     "output_type": "execute_result"
    }
   ],
   "execution_count": 58
  },
  {
   "metadata": {},
   "cell_type": "markdown",
   "source": "## LightGBM",
   "id": "ff73f2d6c008e17d"
  },
  {
   "metadata": {
    "ExecuteTime": {
     "end_time": "2025-06-08T02:24:33.088434Z",
     "start_time": "2025-06-08T02:24:29.206024Z"
    }
   },
   "cell_type": "code",
   "source": [
    "from lightgbm import LGBMClassifier\n",
    "from sklearn.model_selection import cross_val_score\n",
    "\n",
    "# 1. 创建 LightGBM 分类器\n",
    "lgbm = LGBMClassifier(n_estimators=100, random_state=13)\n",
    "\n",
    "# 2. 交叉验证\n",
    "score_lgbm = cross_val_score(lgbm, X_train, y_train, cv=kf, scoring='recall', n_jobs=-1)\n",
    "print(\"交叉验证召回率分数为: {}\".format(score_lgbm))\n",
    "print(\"平均交叉验证召回率分数为: {}\".format(score_lgbm.mean()))\n",
    "\n",
    "# 3. 拟合模型\n",
    "lgbm.fit(X_train, y_train)\n",
    "\n",
    "# 4. 保存模型\n",
    "joblib.dump(lgbm, '../models/lgbm_model.pkl')"
   ],
   "id": "d1fed0f94eb05453",
   "outputs": [
    {
     "name": "stdout",
     "output_type": "stream",
     "text": [
      "交叉验证召回率分数为: [0.60869565 0.50724638 0.52173913 0.37681159 0.5       ]\n",
      "平均交叉验证召回率分数为: 0.5028985507246377\n",
      "[LightGBM] [Info] Number of positive: 344, number of negative: 199020\n",
      "[LightGBM] [Info] Auto-choosing col-wise multi-threading, the overhead of testing was 0.009685 seconds.\n",
      "You can set `force_col_wise=true` to remove the overhead.\n",
      "[LightGBM] [Info] Total Bins 7650\n",
      "[LightGBM] [Info] Number of data points in the train set: 199364, number of used features: 30\n",
      "[LightGBM] [Info] [binary:BoostFromScore]: pavg=0.001725 -> initscore=-6.360519\n",
      "[LightGBM] [Info] Start training from score -6.360519\n"
     ]
    },
    {
     "data": {
      "text/plain": [
       "['../models/lgbm_model.pkl']"
      ]
     },
     "execution_count": 48,
     "metadata": {},
     "output_type": "execute_result"
    }
   ],
   "execution_count": 48
  },
  {
   "metadata": {
    "ExecuteTime": {
     "end_time": "2025-06-08T02:24:33.244950Z",
     "start_time": "2025-06-08T02:24:33.200884Z"
    }
   },
   "cell_type": "code",
   "source": "y_pred = lgbm.predict(X_test)",
   "id": "36b53d65955ac927",
   "outputs": [],
   "execution_count": 49
  },
  {
   "metadata": {
    "ExecuteTime": {
     "end_time": "2025-06-08T02:24:33.345612Z",
     "start_time": "2025-06-08T02:24:33.322359Z"
    }
   },
   "cell_type": "code",
   "source": [
    "cm = confusion_matrix(y_test, y_pred)\n",
    "\n",
    "lgbm_recall = recall_score(y_test, y_pred)\n",
    "lgbm_precision = precision_score(y_test, y_pred)\n",
    "lgbm_f1 = f1_score(y_test, y_pred)\n",
    "lgbm_accuracy = accuracy_score(y_test, y_pred)\n",
    "\n",
    "print(cm)"
   ],
   "id": "e52b78c481a9d2ba",
   "outputs": [
    {
     "name": "stdout",
     "output_type": "stream",
     "text": [
      "[[56667   196]\n",
      " [   57    42]]\n"
     ]
    }
   ],
   "execution_count": 50
  },
  {
   "metadata": {
    "ExecuteTime": {
     "end_time": "2025-06-08T02:24:33.461554Z",
     "start_time": "2025-06-08T02:24:33.445801Z"
    }
   },
   "cell_type": "code",
   "source": [
    "ndf = [(lgbm_recall, lgbm_precision, lgbm_f1, lgbm_accuracy)]\n",
    "\n",
    "lgbm_score = pd.DataFrame(data=ndf, columns=['Recall', 'Precision', 'F1 Score', 'Accuracy'])\n",
    "lgbm_score.insert(0, 'Models', 'LightGBM')\n",
    "lgbm_score"
   ],
   "id": "dfce49713958e1f2",
   "outputs": [
    {
     "data": {
      "text/plain": [
       "     Models    Recall  Precision  F1 Score  Accuracy\n",
       "0  LightGBM  0.424242   0.176471  0.249258  0.995558"
      ],
      "text/html": [
       "<div>\n",
       "<style scoped>\n",
       "    .dataframe tbody tr th:only-of-type {\n",
       "        vertical-align: middle;\n",
       "    }\n",
       "\n",
       "    .dataframe tbody tr th {\n",
       "        vertical-align: top;\n",
       "    }\n",
       "\n",
       "    .dataframe thead th {\n",
       "        text-align: right;\n",
       "    }\n",
       "</style>\n",
       "<table border=\"1\" class=\"dataframe\">\n",
       "  <thead>\n",
       "    <tr style=\"text-align: right;\">\n",
       "      <th></th>\n",
       "      <th>Models</th>\n",
       "      <th>Recall</th>\n",
       "      <th>Precision</th>\n",
       "      <th>F1 Score</th>\n",
       "      <th>Accuracy</th>\n",
       "    </tr>\n",
       "  </thead>\n",
       "  <tbody>\n",
       "    <tr>\n",
       "      <th>0</th>\n",
       "      <td>LightGBM</td>\n",
       "      <td>0.424242</td>\n",
       "      <td>0.176471</td>\n",
       "      <td>0.249258</td>\n",
       "      <td>0.995558</td>\n",
       "    </tr>\n",
       "  </tbody>\n",
       "</table>\n",
       "</div>"
      ]
     },
     "execution_count": 51,
     "metadata": {},
     "output_type": "execute_result"
    }
   ],
   "execution_count": 51
  },
  {
   "metadata": {
    "ExecuteTime": {
     "end_time": "2025-06-08T02:25:24.205100Z",
     "start_time": "2025-06-08T02:24:33.571014Z"
    }
   },
   "cell_type": "code",
   "source": [
    "from lightgbm import LGBMClassifier\n",
    "from sklearn.model_selection import GridSearchCV\n",
    "\n",
    "params = {\n",
    "    'n_estimators': [50, 100, 200],\n",
    "    'max_depth': [4, 6, 10],\n",
    "    'learning_rate': [0.01, 0.1, 0.2]\n",
    "}\n",
    "\n",
    "lgbm = LGBMClassifier(random_state=13)\n",
    "grid_lgbm = GridSearchCV(lgbm, param_grid=params, cv=kf, scoring='recall', n_jobs=-1)\n",
    "grid_lgbm.fit(X_train, y_train)\n",
    "\n",
    "print('最佳参数:', grid_lgbm.best_params_)\n",
    "print('最佳分数:', grid_lgbm.best_score_)\n",
    "\n",
    "# 保存模型\n",
    "joblib.dump(grid_lgbm, '../models/grid_lgbm_model.pkl')"
   ],
   "id": "4c13fa1554060dd6",
   "outputs": [
    {
     "name": "stdout",
     "output_type": "stream",
     "text": [
      "[LightGBM] [Info] Number of positive: 344, number of negative: 199020\n",
      "[LightGBM] [Info] Auto-choosing col-wise multi-threading, the overhead of testing was 0.008002 seconds.\n",
      "You can set `force_col_wise=true` to remove the overhead.\n",
      "[LightGBM] [Info] Total Bins 7650\n",
      "[LightGBM] [Info] Number of data points in the train set: 199364, number of used features: 30\n",
      "[LightGBM] [Info] [binary:BoostFromScore]: pavg=0.001725 -> initscore=-6.360519\n",
      "[LightGBM] [Info] Start training from score -6.360519\n",
      "[LightGBM] [Warning] No further splits with positive gain, best gain: -inf\n",
      "[LightGBM] [Warning] No further splits with positive gain, best gain: -inf\n",
      "[LightGBM] [Warning] No further splits with positive gain, best gain: -inf\n",
      "[LightGBM] [Warning] No further splits with positive gain, best gain: -inf\n",
      "[LightGBM] [Warning] No further splits with positive gain, best gain: -inf\n",
      "[LightGBM] [Warning] No further splits with positive gain, best gain: -inf\n",
      "[LightGBM] [Warning] No further splits with positive gain, best gain: -inf\n",
      "[LightGBM] [Warning] No further splits with positive gain, best gain: -inf\n",
      "[LightGBM] [Warning] No further splits with positive gain, best gain: -inf\n",
      "[LightGBM] [Warning] No further splits with positive gain, best gain: -inf\n",
      "[LightGBM] [Warning] No further splits with positive gain, best gain: -inf\n",
      "[LightGBM] [Warning] No further splits with positive gain, best gain: -inf\n",
      "[LightGBM] [Warning] No further splits with positive gain, best gain: -inf\n",
      "[LightGBM] [Warning] No further splits with positive gain, best gain: -inf\n",
      "[LightGBM] [Warning] No further splits with positive gain, best gain: -inf\n",
      "[LightGBM] [Warning] No further splits with positive gain, best gain: -inf\n",
      "[LightGBM] [Warning] No further splits with positive gain, best gain: -inf\n",
      "[LightGBM] [Warning] No further splits with positive gain, best gain: -inf\n",
      "[LightGBM] [Warning] No further splits with positive gain, best gain: -inf\n",
      "[LightGBM] [Warning] No further splits with positive gain, best gain: -inf\n",
      "[LightGBM] [Warning] No further splits with positive gain, best gain: -inf\n",
      "[LightGBM] [Warning] No further splits with positive gain, best gain: -inf\n",
      "[LightGBM] [Warning] No further splits with positive gain, best gain: -inf\n",
      "[LightGBM] [Warning] No further splits with positive gain, best gain: -inf\n",
      "[LightGBM] [Warning] No further splits with positive gain, best gain: -inf\n",
      "[LightGBM] [Warning] No further splits with positive gain, best gain: -inf\n",
      "[LightGBM] [Warning] No further splits with positive gain, best gain: -inf\n",
      "[LightGBM] [Warning] No further splits with positive gain, best gain: -inf\n",
      "[LightGBM] [Warning] No further splits with positive gain, best gain: -inf\n",
      "[LightGBM] [Warning] No further splits with positive gain, best gain: -inf\n",
      "[LightGBM] [Warning] No further splits with positive gain, best gain: -inf\n",
      "[LightGBM] [Warning] No further splits with positive gain, best gain: -inf\n",
      "[LightGBM] [Warning] No further splits with positive gain, best gain: -inf\n",
      "[LightGBM] [Warning] No further splits with positive gain, best gain: -inf\n",
      "[LightGBM] [Warning] No further splits with positive gain, best gain: -inf\n",
      "[LightGBM] [Warning] No further splits with positive gain, best gain: -inf\n",
      "[LightGBM] [Warning] No further splits with positive gain, best gain: -inf\n",
      "[LightGBM] [Warning] No further splits with positive gain, best gain: -inf\n",
      "[LightGBM] [Warning] No further splits with positive gain, best gain: -inf\n",
      "[LightGBM] [Warning] No further splits with positive gain, best gain: -inf\n",
      "[LightGBM] [Warning] No further splits with positive gain, best gain: -inf\n",
      "[LightGBM] [Warning] No further splits with positive gain, best gain: -inf\n",
      "[LightGBM] [Warning] No further splits with positive gain, best gain: -inf\n",
      "[LightGBM] [Warning] No further splits with positive gain, best gain: -inf\n",
      "[LightGBM] [Warning] No further splits with positive gain, best gain: -inf\n",
      "[LightGBM] [Warning] No further splits with positive gain, best gain: -inf\n",
      "[LightGBM] [Warning] No further splits with positive gain, best gain: -inf\n",
      "[LightGBM] [Warning] No further splits with positive gain, best gain: -inf\n",
      "[LightGBM] [Warning] No further splits with positive gain, best gain: -inf\n",
      "[LightGBM] [Warning] No further splits with positive gain, best gain: -inf\n",
      "[LightGBM] [Warning] No further splits with positive gain, best gain: -inf\n",
      "[LightGBM] [Warning] No further splits with positive gain, best gain: -inf\n",
      "[LightGBM] [Warning] No further splits with positive gain, best gain: -inf\n",
      "[LightGBM] [Warning] No further splits with positive gain, best gain: -inf\n",
      "[LightGBM] [Warning] No further splits with positive gain, best gain: -inf\n",
      "[LightGBM] [Warning] No further splits with positive gain, best gain: -inf\n",
      "[LightGBM] [Warning] No further splits with positive gain, best gain: -inf\n",
      "[LightGBM] [Warning] No further splits with positive gain, best gain: -inf\n",
      "[LightGBM] [Warning] No further splits with positive gain, best gain: -inf\n",
      "[LightGBM] [Warning] No further splits with positive gain, best gain: -inf\n",
      "[LightGBM] [Warning] No further splits with positive gain, best gain: -inf\n",
      "[LightGBM] [Warning] No further splits with positive gain, best gain: -inf\n",
      "[LightGBM] [Warning] No further splits with positive gain, best gain: -inf\n",
      "[LightGBM] [Warning] No further splits with positive gain, best gain: -inf\n",
      "[LightGBM] [Warning] No further splits with positive gain, best gain: -inf\n",
      "[LightGBM] [Warning] No further splits with positive gain, best gain: -inf\n",
      "[LightGBM] [Warning] No further splits with positive gain, best gain: -inf\n",
      "[LightGBM] [Warning] No further splits with positive gain, best gain: -inf\n",
      "[LightGBM] [Warning] No further splits with positive gain, best gain: -inf\n",
      "[LightGBM] [Warning] No further splits with positive gain, best gain: -inf\n",
      "[LightGBM] [Warning] No further splits with positive gain, best gain: -inf\n",
      "[LightGBM] [Warning] No further splits with positive gain, best gain: -inf\n",
      "[LightGBM] [Warning] No further splits with positive gain, best gain: -inf\n",
      "[LightGBM] [Warning] No further splits with positive gain, best gain: -inf\n",
      "[LightGBM] [Warning] No further splits with positive gain, best gain: -inf\n",
      "[LightGBM] [Warning] No further splits with positive gain, best gain: -inf\n",
      "[LightGBM] [Warning] No further splits with positive gain, best gain: -inf\n",
      "[LightGBM] [Warning] No further splits with positive gain, best gain: -inf\n",
      "[LightGBM] [Warning] No further splits with positive gain, best gain: -inf\n",
      "[LightGBM] [Warning] No further splits with positive gain, best gain: -inf\n",
      "[LightGBM] [Warning] No further splits with positive gain, best gain: -inf\n",
      "[LightGBM] [Warning] No further splits with positive gain, best gain: -inf\n",
      "[LightGBM] [Warning] No further splits with positive gain, best gain: -inf\n",
      "[LightGBM] [Warning] No further splits with positive gain, best gain: -inf\n",
      "[LightGBM] [Warning] No further splits with positive gain, best gain: -inf\n",
      "[LightGBM] [Warning] No further splits with positive gain, best gain: -inf\n",
      "[LightGBM] [Warning] No further splits with positive gain, best gain: -inf\n",
      "[LightGBM] [Warning] No further splits with positive gain, best gain: -inf\n",
      "[LightGBM] [Warning] No further splits with positive gain, best gain: -inf\n",
      "[LightGBM] [Warning] No further splits with positive gain, best gain: -inf\n",
      "[LightGBM] [Warning] No further splits with positive gain, best gain: -inf\n",
      "[LightGBM] [Warning] No further splits with positive gain, best gain: -inf\n",
      "[LightGBM] [Warning] No further splits with positive gain, best gain: -inf\n",
      "[LightGBM] [Warning] No further splits with positive gain, best gain: -inf\n",
      "[LightGBM] [Warning] No further splits with positive gain, best gain: -inf\n",
      "[LightGBM] [Warning] No further splits with positive gain, best gain: -inf\n",
      "[LightGBM] [Warning] No further splits with positive gain, best gain: -inf\n",
      "[LightGBM] [Warning] No further splits with positive gain, best gain: -inf\n",
      "[LightGBM] [Warning] No further splits with positive gain, best gain: -inf\n",
      "[LightGBM] [Warning] No further splits with positive gain, best gain: -inf\n",
      "[LightGBM] [Warning] No further splits with positive gain, best gain: -inf\n",
      "[LightGBM] [Warning] No further splits with positive gain, best gain: -inf\n",
      "[LightGBM] [Warning] No further splits with positive gain, best gain: -inf\n",
      "[LightGBM] [Warning] No further splits with positive gain, best gain: -inf\n",
      "[LightGBM] [Warning] No further splits with positive gain, best gain: -inf\n",
      "[LightGBM] [Warning] No further splits with positive gain, best gain: -inf\n",
      "[LightGBM] [Warning] No further splits with positive gain, best gain: -inf\n",
      "[LightGBM] [Warning] No further splits with positive gain, best gain: -inf\n",
      "[LightGBM] [Warning] No further splits with positive gain, best gain: -inf\n",
      "[LightGBM] [Warning] No further splits with positive gain, best gain: -inf\n",
      "[LightGBM] [Warning] No further splits with positive gain, best gain: -inf\n",
      "[LightGBM] [Warning] No further splits with positive gain, best gain: -inf\n",
      "[LightGBM] [Warning] No further splits with positive gain, best gain: -inf\n",
      "[LightGBM] [Warning] No further splits with positive gain, best gain: -inf\n",
      "[LightGBM] [Warning] No further splits with positive gain, best gain: -inf\n",
      "[LightGBM] [Warning] No further splits with positive gain, best gain: -inf\n",
      "[LightGBM] [Warning] No further splits with positive gain, best gain: -inf\n",
      "[LightGBM] [Warning] No further splits with positive gain, best gain: -inf\n",
      "[LightGBM] [Warning] No further splits with positive gain, best gain: -inf\n",
      "[LightGBM] [Warning] No further splits with positive gain, best gain: -inf\n",
      "[LightGBM] [Warning] No further splits with positive gain, best gain: -inf\n",
      "[LightGBM] [Warning] No further splits with positive gain, best gain: -inf\n",
      "[LightGBM] [Warning] No further splits with positive gain, best gain: -inf\n",
      "[LightGBM] [Warning] No further splits with positive gain, best gain: -inf\n",
      "[LightGBM] [Warning] No further splits with positive gain, best gain: -inf\n",
      "[LightGBM] [Warning] No further splits with positive gain, best gain: -inf\n",
      "[LightGBM] [Warning] No further splits with positive gain, best gain: -inf\n",
      "[LightGBM] [Warning] No further splits with positive gain, best gain: -inf\n",
      "[LightGBM] [Warning] No further splits with positive gain, best gain: -inf\n",
      "[LightGBM] [Warning] No further splits with positive gain, best gain: -inf\n",
      "[LightGBM] [Warning] No further splits with positive gain, best gain: -inf\n",
      "[LightGBM] [Warning] No further splits with positive gain, best gain: -inf\n",
      "[LightGBM] [Warning] No further splits with positive gain, best gain: -inf\n",
      "[LightGBM] [Warning] No further splits with positive gain, best gain: -inf\n",
      "[LightGBM] [Warning] No further splits with positive gain, best gain: -inf\n",
      "[LightGBM] [Warning] No further splits with positive gain, best gain: -inf\n",
      "[LightGBM] [Warning] No further splits with positive gain, best gain: -inf\n",
      "[LightGBM] [Warning] No further splits with positive gain, best gain: -inf\n",
      "[LightGBM] [Warning] No further splits with positive gain, best gain: -inf\n",
      "[LightGBM] [Warning] No further splits with positive gain, best gain: -inf\n",
      "[LightGBM] [Warning] No further splits with positive gain, best gain: -inf\n",
      "[LightGBM] [Warning] No further splits with positive gain, best gain: -inf\n",
      "[LightGBM] [Warning] No further splits with positive gain, best gain: -inf\n",
      "[LightGBM] [Warning] No further splits with positive gain, best gain: -inf\n",
      "[LightGBM] [Warning] No further splits with positive gain, best gain: -inf\n",
      "[LightGBM] [Warning] No further splits with positive gain, best gain: -inf\n",
      "[LightGBM] [Warning] No further splits with positive gain, best gain: -inf\n",
      "[LightGBM] [Warning] No further splits with positive gain, best gain: -inf\n",
      "[LightGBM] [Warning] No further splits with positive gain, best gain: -inf\n",
      "[LightGBM] [Warning] No further splits with positive gain, best gain: -inf\n",
      "[LightGBM] [Warning] No further splits with positive gain, best gain: -inf\n",
      "[LightGBM] [Warning] No further splits with positive gain, best gain: -inf\n",
      "[LightGBM] [Warning] No further splits with positive gain, best gain: -inf\n",
      "[LightGBM] [Warning] No further splits with positive gain, best gain: -inf\n",
      "[LightGBM] [Warning] No further splits with positive gain, best gain: -inf\n",
      "[LightGBM] [Warning] No further splits with positive gain, best gain: -inf\n",
      "[LightGBM] [Warning] No further splits with positive gain, best gain: -inf\n",
      "[LightGBM] [Warning] No further splits with positive gain, best gain: -inf\n",
      "[LightGBM] [Warning] No further splits with positive gain, best gain: -inf\n",
      "[LightGBM] [Warning] No further splits with positive gain, best gain: -inf\n",
      "[LightGBM] [Warning] No further splits with positive gain, best gain: -inf\n",
      "[LightGBM] [Warning] No further splits with positive gain, best gain: -inf\n",
      "[LightGBM] [Warning] No further splits with positive gain, best gain: -inf\n",
      "[LightGBM] [Warning] No further splits with positive gain, best gain: -inf\n",
      "[LightGBM] [Warning] No further splits with positive gain, best gain: -inf\n",
      "[LightGBM] [Warning] No further splits with positive gain, best gain: -inf\n",
      "[LightGBM] [Warning] No further splits with positive gain, best gain: -inf\n",
      "[LightGBM] [Warning] No further splits with positive gain, best gain: -inf\n",
      "[LightGBM] [Warning] No further splits with positive gain, best gain: -inf\n",
      "[LightGBM] [Warning] No further splits with positive gain, best gain: -inf\n",
      "[LightGBM] [Warning] No further splits with positive gain, best gain: -inf\n",
      "[LightGBM] [Warning] No further splits with positive gain, best gain: -inf\n",
      "[LightGBM] [Warning] No further splits with positive gain, best gain: -inf\n",
      "[LightGBM] [Warning] No further splits with positive gain, best gain: -inf\n",
      "[LightGBM] [Warning] No further splits with positive gain, best gain: -inf\n",
      "[LightGBM] [Warning] No further splits with positive gain, best gain: -inf\n",
      "[LightGBM] [Warning] No further splits with positive gain, best gain: -inf\n",
      "[LightGBM] [Warning] No further splits with positive gain, best gain: -inf\n",
      "[LightGBM] [Warning] No further splits with positive gain, best gain: -inf\n",
      "[LightGBM] [Warning] No further splits with positive gain, best gain: -inf\n",
      "[LightGBM] [Warning] No further splits with positive gain, best gain: -inf\n",
      "[LightGBM] [Warning] No further splits with positive gain, best gain: -inf\n",
      "[LightGBM] [Warning] No further splits with positive gain, best gain: -inf\n",
      "[LightGBM] [Warning] No further splits with positive gain, best gain: -inf\n",
      "[LightGBM] [Warning] No further splits with positive gain, best gain: -inf\n",
      "[LightGBM] [Warning] No further splits with positive gain, best gain: -inf\n",
      "[LightGBM] [Warning] No further splits with positive gain, best gain: -inf\n",
      "[LightGBM] [Warning] No further splits with positive gain, best gain: -inf\n",
      "[LightGBM] [Warning] No further splits with positive gain, best gain: -inf\n",
      "[LightGBM] [Warning] No further splits with positive gain, best gain: -inf\n",
      "[LightGBM] [Warning] No further splits with positive gain, best gain: -inf\n",
      "[LightGBM] [Warning] No further splits with positive gain, best gain: -inf\n",
      "[LightGBM] [Warning] No further splits with positive gain, best gain: -inf\n",
      "[LightGBM] [Warning] No further splits with positive gain, best gain: -inf\n",
      "[LightGBM] [Warning] No further splits with positive gain, best gain: -inf\n",
      "[LightGBM] [Warning] No further splits with positive gain, best gain: -inf\n",
      "[LightGBM] [Warning] No further splits with positive gain, best gain: -inf\n",
      "[LightGBM] [Warning] No further splits with positive gain, best gain: -inf\n",
      "[LightGBM] [Warning] No further splits with positive gain, best gain: -inf\n",
      "[LightGBM] [Warning] No further splits with positive gain, best gain: -inf\n",
      "最佳参数: {'learning_rate': 0.01, 'max_depth': 4, 'n_estimators': 200}\n",
      "最佳分数: 0.764535379369139\n"
     ]
    },
    {
     "data": {
      "text/plain": [
       "['../models/grid_lgbm_model.pkl']"
      ]
     },
     "execution_count": 52,
     "metadata": {},
     "output_type": "execute_result"
    }
   ],
   "execution_count": 52
  },
  {
   "metadata": {
    "ExecuteTime": {
     "end_time": "2025-06-08T02:25:24.352605Z",
     "start_time": "2025-06-08T02:25:24.305536Z"
    }
   },
   "cell_type": "code",
   "source": "y_pred= grid_lgbm.predict(X_test)",
   "id": "7fc7a5d04091415c",
   "outputs": [],
   "execution_count": 53
  },
  {
   "metadata": {
    "ExecuteTime": {
     "end_time": "2025-06-08T02:25:24.506131Z",
     "start_time": "2025-06-08T02:25:24.475041Z"
    }
   },
   "cell_type": "code",
   "source": [
    "cm = confusion_matrix(y_test, y_pred)\n",
    "\n",
    "grid_lgbm_recall = recall_score(y_test, y_pred)\n",
    "grid_lgbm_precision = precision_score(y_test, y_pred)\n",
    "grid_lgbm_f1 = f1_score(y_test, y_pred)\n",
    "grid_lgbm_accuracy = accuracy_score(y_test, y_pred)\n",
    "\n",
    "print(cm)"
   ],
   "id": "9e84020769c086eb",
   "outputs": [
    {
     "name": "stdout",
     "output_type": "stream",
     "text": [
      "[[56854     9]\n",
      " [   28    71]]\n"
     ]
    }
   ],
   "execution_count": 54
  },
  {
   "metadata": {
    "ExecuteTime": {
     "end_time": "2025-06-08T02:25:24.608897Z",
     "start_time": "2025-06-08T02:25:24.592931Z"
    }
   },
   "cell_type": "code",
   "source": [
    "ndf = [(grid_lgbm_recall, grid_lgbm_precision, grid_lgbm_f1, grid_lgbm_accuracy)]\n",
    "\n",
    "grid_lgbm_score = pd.DataFrame(data=ndf, columns=['Recall', 'Precision', 'F1 Score', 'Accuracy'])\n",
    "grid_lgbm_score.insert(0, 'Models', 'LightGBM_GridSearchCV')\n",
    "grid_lgbm_score"
   ],
   "id": "b971e778e16050be",
   "outputs": [
    {
     "data": {
      "text/plain": [
       "                  Models    Recall  Precision  F1 Score  Accuracy\n",
       "0  LightGBM_GridSearchCV  0.717172     0.8875  0.793296   0.99935"
      ],
      "text/html": [
       "<div>\n",
       "<style scoped>\n",
       "    .dataframe tbody tr th:only-of-type {\n",
       "        vertical-align: middle;\n",
       "    }\n",
       "\n",
       "    .dataframe tbody tr th {\n",
       "        vertical-align: top;\n",
       "    }\n",
       "\n",
       "    .dataframe thead th {\n",
       "        text-align: right;\n",
       "    }\n",
       "</style>\n",
       "<table border=\"1\" class=\"dataframe\">\n",
       "  <thead>\n",
       "    <tr style=\"text-align: right;\">\n",
       "      <th></th>\n",
       "      <th>Models</th>\n",
       "      <th>Recall</th>\n",
       "      <th>Precision</th>\n",
       "      <th>F1 Score</th>\n",
       "      <th>Accuracy</th>\n",
       "    </tr>\n",
       "  </thead>\n",
       "  <tbody>\n",
       "    <tr>\n",
       "      <th>0</th>\n",
       "      <td>LightGBM_GridSearchCV</td>\n",
       "      <td>0.717172</td>\n",
       "      <td>0.8875</td>\n",
       "      <td>0.793296</td>\n",
       "      <td>0.99935</td>\n",
       "    </tr>\n",
       "  </tbody>\n",
       "</table>\n",
       "</div>"
      ]
     },
     "execution_count": 55,
     "metadata": {},
     "output_type": "execute_result"
    }
   ],
   "execution_count": 55
  }
 ],
 "metadata": {
  "kernelspec": {
   "display_name": "Python 3",
   "language": "python",
   "name": "python3"
  },
  "language_info": {
   "codemirror_mode": {
    "name": "ipython",
    "version": 2
   },
   "file_extension": ".py",
   "mimetype": "text/x-python",
   "name": "python",
   "nbconvert_exporter": "python",
   "pygments_lexer": "ipython2",
   "version": "2.7.6"
  }
 },
 "nbformat": 4,
 "nbformat_minor": 5
}
